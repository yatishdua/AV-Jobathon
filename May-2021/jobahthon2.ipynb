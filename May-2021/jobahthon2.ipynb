{
  "nbformat": 4,
  "nbformat_minor": 0,
  "metadata": {
    "colab": {
      "name": "jobahthon2.ipynb",
      "provenance": [],
      "collapsed_sections": [],
      "toc_visible": true
    },
    "kernelspec": {
      "display_name": "Python 3",
      "name": "python3"
    },
    "language_info": {
      "name": "python"
    }
  },
  "cells": [
    {
      "cell_type": "markdown",
      "metadata": {
        "id": "x36_YGGzH4wp"
      },
      "source": [
        "# Import Library"
      ]
    },
    {
      "cell_type": "code",
      "metadata": {
        "id": "2ETkZZoRk0F7"
      },
      "source": [
        "import pandas as pd\n",
        "\n",
        "import seaborn as sns\n",
        "import numpy as np\n",
        "\n",
        "import matplotlib.pyplot as plt\n",
        "\n",
        "from sklearn.model_selection import train_test_split\n",
        "from sklearn.metrics import confusion_matrix,classification_report\n"
      ],
      "execution_count": 73,
      "outputs": []
    },
    {
      "cell_type": "code",
      "metadata": {
        "colab": {
          "base_uri": "https://localhost:8080/"
        },
        "id": "n06e2qmemc7C",
        "outputId": "746305c1-70dc-4c19-a709-590d1b776cdd"
      },
      "source": [
        "pip install catboost"
      ],
      "execution_count": 74,
      "outputs": [
        {
          "output_type": "stream",
          "text": [
            "Requirement already satisfied: catboost in /usr/local/lib/python3.7/dist-packages (0.25.1)\n",
            "Requirement already satisfied: scipy in /usr/local/lib/python3.7/dist-packages (from catboost) (1.4.1)\n",
            "Requirement already satisfied: pandas>=0.24.0 in /usr/local/lib/python3.7/dist-packages (from catboost) (1.1.5)\n",
            "Requirement already satisfied: numpy>=1.16.0 in /usr/local/lib/python3.7/dist-packages (from catboost) (1.19.5)\n",
            "Requirement already satisfied: matplotlib in /usr/local/lib/python3.7/dist-packages (from catboost) (3.2.2)\n",
            "Requirement already satisfied: plotly in /usr/local/lib/python3.7/dist-packages (from catboost) (4.4.1)\n",
            "Requirement already satisfied: six in /usr/local/lib/python3.7/dist-packages (from catboost) (1.15.0)\n",
            "Requirement already satisfied: graphviz in /usr/local/lib/python3.7/dist-packages (from catboost) (0.10.1)\n",
            "Requirement already satisfied: pytz>=2017.2 in /usr/local/lib/python3.7/dist-packages (from pandas>=0.24.0->catboost) (2018.9)\n",
            "Requirement already satisfied: python-dateutil>=2.7.3 in /usr/local/lib/python3.7/dist-packages (from pandas>=0.24.0->catboost) (2.8.1)\n",
            "Requirement already satisfied: cycler>=0.10 in /usr/local/lib/python3.7/dist-packages (from matplotlib->catboost) (0.10.0)\n",
            "Requirement already satisfied: pyparsing!=2.0.4,!=2.1.2,!=2.1.6,>=2.0.1 in /usr/local/lib/python3.7/dist-packages (from matplotlib->catboost) (2.4.7)\n",
            "Requirement already satisfied: kiwisolver>=1.0.1 in /usr/local/lib/python3.7/dist-packages (from matplotlib->catboost) (1.3.1)\n",
            "Requirement already satisfied: retrying>=1.3.3 in /usr/local/lib/python3.7/dist-packages (from plotly->catboost) (1.3.3)\n"
          ],
          "name": "stdout"
        }
      ]
    },
    {
      "cell_type": "code",
      "metadata": {
        "id": "u756ViA6mjI3"
      },
      "source": [
        "from catboost import CatBoostClassifier"
      ],
      "execution_count": 75,
      "outputs": []
    },
    {
      "cell_type": "markdown",
      "metadata": {
        "id": "uQg_MRXKH8mE"
      },
      "source": [
        "# Import Dataset"
      ]
    },
    {
      "cell_type": "code",
      "metadata": {
        "id": "lL5_c4d7l_dO"
      },
      "source": [
        "train = pd.read_csv('/content/drive/MyDrive/freelancer/job2/train.csv')"
      ],
      "execution_count": 125,
      "outputs": []
    },
    {
      "cell_type": "code",
      "metadata": {
        "colab": {
          "base_uri": "https://localhost:8080/",
          "height": 197
        },
        "id": "94YIY4Njo7vh",
        "outputId": "3473b021-4c07-4937-b557-317563d576d3"
      },
      "source": [
        "train.head()"
      ],
      "execution_count": 77,
      "outputs": [
        {
          "output_type": "execute_result",
          "data": {
            "text/html": [
              "<div>\n",
              "<style scoped>\n",
              "    .dataframe tbody tr th:only-of-type {\n",
              "        vertical-align: middle;\n",
              "    }\n",
              "\n",
              "    .dataframe tbody tr th {\n",
              "        vertical-align: top;\n",
              "    }\n",
              "\n",
              "    .dataframe thead th {\n",
              "        text-align: right;\n",
              "    }\n",
              "</style>\n",
              "<table border=\"1\" class=\"dataframe\">\n",
              "  <thead>\n",
              "    <tr style=\"text-align: right;\">\n",
              "      <th></th>\n",
              "      <th>ID</th>\n",
              "      <th>Gender</th>\n",
              "      <th>Age</th>\n",
              "      <th>Region_Code</th>\n",
              "      <th>Occupation</th>\n",
              "      <th>Channel_Code</th>\n",
              "      <th>Vintage</th>\n",
              "      <th>Credit_Product</th>\n",
              "      <th>Avg_Account_Balance</th>\n",
              "      <th>Is_Active</th>\n",
              "      <th>Is_Lead</th>\n",
              "    </tr>\n",
              "  </thead>\n",
              "  <tbody>\n",
              "    <tr>\n",
              "      <th>0</th>\n",
              "      <td>NNVBBKZB</td>\n",
              "      <td>Female</td>\n",
              "      <td>73</td>\n",
              "      <td>RG268</td>\n",
              "      <td>Other</td>\n",
              "      <td>X3</td>\n",
              "      <td>43</td>\n",
              "      <td>No</td>\n",
              "      <td>1045696</td>\n",
              "      <td>No</td>\n",
              "      <td>0</td>\n",
              "    </tr>\n",
              "    <tr>\n",
              "      <th>1</th>\n",
              "      <td>IDD62UNG</td>\n",
              "      <td>Female</td>\n",
              "      <td>30</td>\n",
              "      <td>RG277</td>\n",
              "      <td>Salaried</td>\n",
              "      <td>X1</td>\n",
              "      <td>32</td>\n",
              "      <td>No</td>\n",
              "      <td>581988</td>\n",
              "      <td>No</td>\n",
              "      <td>0</td>\n",
              "    </tr>\n",
              "    <tr>\n",
              "      <th>2</th>\n",
              "      <td>HD3DSEMC</td>\n",
              "      <td>Female</td>\n",
              "      <td>56</td>\n",
              "      <td>RG268</td>\n",
              "      <td>Self_Employed</td>\n",
              "      <td>X3</td>\n",
              "      <td>26</td>\n",
              "      <td>No</td>\n",
              "      <td>1484315</td>\n",
              "      <td>Yes</td>\n",
              "      <td>0</td>\n",
              "    </tr>\n",
              "    <tr>\n",
              "      <th>3</th>\n",
              "      <td>BF3NC7KV</td>\n",
              "      <td>Male</td>\n",
              "      <td>34</td>\n",
              "      <td>RG270</td>\n",
              "      <td>Salaried</td>\n",
              "      <td>X1</td>\n",
              "      <td>19</td>\n",
              "      <td>No</td>\n",
              "      <td>470454</td>\n",
              "      <td>No</td>\n",
              "      <td>0</td>\n",
              "    </tr>\n",
              "    <tr>\n",
              "      <th>4</th>\n",
              "      <td>TEASRWXV</td>\n",
              "      <td>Female</td>\n",
              "      <td>30</td>\n",
              "      <td>RG282</td>\n",
              "      <td>Salaried</td>\n",
              "      <td>X1</td>\n",
              "      <td>33</td>\n",
              "      <td>No</td>\n",
              "      <td>886787</td>\n",
              "      <td>No</td>\n",
              "      <td>0</td>\n",
              "    </tr>\n",
              "  </tbody>\n",
              "</table>\n",
              "</div>"
            ],
            "text/plain": [
              "         ID  Gender  Age  ... Avg_Account_Balance Is_Active Is_Lead\n",
              "0  NNVBBKZB  Female   73  ...             1045696        No       0\n",
              "1  IDD62UNG  Female   30  ...              581988        No       0\n",
              "2  HD3DSEMC  Female   56  ...             1484315       Yes       0\n",
              "3  BF3NC7KV    Male   34  ...              470454        No       0\n",
              "4  TEASRWXV  Female   30  ...              886787        No       0\n",
              "\n",
              "[5 rows x 11 columns]"
            ]
          },
          "metadata": {
            "tags": []
          },
          "execution_count": 77
        }
      ]
    },
    {
      "cell_type": "markdown",
      "metadata": {
        "id": "OmW0YEkdNR2n"
      },
      "source": [
        "## Train Dataset Info"
      ]
    },
    {
      "cell_type": "code",
      "metadata": {
        "colab": {
          "base_uri": "https://localhost:8080/"
        },
        "id": "Lu-f_EZUUxYV",
        "outputId": "3b031478-d3c4-4d7f-f7c7-d2ab05922510"
      },
      "source": [
        "train.info()"
      ],
      "execution_count": 78,
      "outputs": [
        {
          "output_type": "stream",
          "text": [
            "<class 'pandas.core.frame.DataFrame'>\n",
            "RangeIndex: 245725 entries, 0 to 245724\n",
            "Data columns (total 11 columns):\n",
            " #   Column               Non-Null Count   Dtype \n",
            "---  ------               --------------   ----- \n",
            " 0   ID                   245725 non-null  object\n",
            " 1   Gender               245725 non-null  object\n",
            " 2   Age                  245725 non-null  int64 \n",
            " 3   Region_Code          245725 non-null  object\n",
            " 4   Occupation           245725 non-null  object\n",
            " 5   Channel_Code         245725 non-null  object\n",
            " 6   Vintage              245725 non-null  int64 \n",
            " 7   Credit_Product       216400 non-null  object\n",
            " 8   Avg_Account_Balance  245725 non-null  int64 \n",
            " 9   Is_Active            245725 non-null  object\n",
            " 10  Is_Lead              245725 non-null  int64 \n",
            "dtypes: int64(4), object(7)\n",
            "memory usage: 20.6+ MB\n"
          ],
          "name": "stdout"
        }
      ]
    },
    {
      "cell_type": "markdown",
      "metadata": {
        "id": "AScB6DMySC1l"
      },
      "source": [
        "## Categorical Columns"
      ]
    },
    {
      "cell_type": "code",
      "metadata": {
        "colab": {
          "base_uri": "https://localhost:8080/"
        },
        "id": "XfPr2z5rSFn5",
        "outputId": "0dc034aa-f22d-413c-9f34-8a4bad3c2e95"
      },
      "source": [
        "print('Categorical Columns \\n')\n",
        "for col in train.drop('ID',axis=1).select_dtypes(include='object').columns:\n",
        "  print(f'{col} is Categorical column containing {train[col].nunique()} varible  \\n')"
      ],
      "execution_count": 132,
      "outputs": [
        {
          "output_type": "stream",
          "text": [
            "Categorical Columns \n",
            "\n",
            "Gender is Categorical column containing 2 varible  \n",
            "\n",
            "Region_Code is Categorical column containing 35 varible  \n",
            "\n",
            "Occupation is Categorical column containing 4 varible  \n",
            "\n",
            "Channel_Code is Categorical column containing 4 varible  \n",
            "\n",
            "Credit_Product is Categorical column containing 2 varible  \n",
            "\n",
            "Is_Active is Categorical column containing 2 varible  \n",
            "\n"
          ],
          "name": "stdout"
        }
      ]
    },
    {
      "cell_type": "markdown",
      "metadata": {
        "id": "NSBKhhNTNVed"
      },
      "source": [
        "## Train Dataset describtion"
      ]
    },
    {
      "cell_type": "code",
      "metadata": {
        "colab": {
          "base_uri": "https://localhost:8080/",
          "height": 287
        },
        "id": "iqqDSDnrUyfZ",
        "outputId": "76165d4c-f067-4586-a11a-2741e07cde47"
      },
      "source": [
        "train.describe()"
      ],
      "execution_count": 79,
      "outputs": [
        {
          "output_type": "execute_result",
          "data": {
            "text/html": [
              "<div>\n",
              "<style scoped>\n",
              "    .dataframe tbody tr th:only-of-type {\n",
              "        vertical-align: middle;\n",
              "    }\n",
              "\n",
              "    .dataframe tbody tr th {\n",
              "        vertical-align: top;\n",
              "    }\n",
              "\n",
              "    .dataframe thead th {\n",
              "        text-align: right;\n",
              "    }\n",
              "</style>\n",
              "<table border=\"1\" class=\"dataframe\">\n",
              "  <thead>\n",
              "    <tr style=\"text-align: right;\">\n",
              "      <th></th>\n",
              "      <th>Age</th>\n",
              "      <th>Vintage</th>\n",
              "      <th>Avg_Account_Balance</th>\n",
              "      <th>Is_Lead</th>\n",
              "    </tr>\n",
              "  </thead>\n",
              "  <tbody>\n",
              "    <tr>\n",
              "      <th>count</th>\n",
              "      <td>245725.000000</td>\n",
              "      <td>245725.000000</td>\n",
              "      <td>2.457250e+05</td>\n",
              "      <td>245725.000000</td>\n",
              "    </tr>\n",
              "    <tr>\n",
              "      <th>mean</th>\n",
              "      <td>43.856307</td>\n",
              "      <td>46.959141</td>\n",
              "      <td>1.128403e+06</td>\n",
              "      <td>0.237208</td>\n",
              "    </tr>\n",
              "    <tr>\n",
              "      <th>std</th>\n",
              "      <td>14.828672</td>\n",
              "      <td>32.353136</td>\n",
              "      <td>8.529364e+05</td>\n",
              "      <td>0.425372</td>\n",
              "    </tr>\n",
              "    <tr>\n",
              "      <th>min</th>\n",
              "      <td>23.000000</td>\n",
              "      <td>7.000000</td>\n",
              "      <td>2.079000e+04</td>\n",
              "      <td>0.000000</td>\n",
              "    </tr>\n",
              "    <tr>\n",
              "      <th>25%</th>\n",
              "      <td>30.000000</td>\n",
              "      <td>20.000000</td>\n",
              "      <td>6.043100e+05</td>\n",
              "      <td>0.000000</td>\n",
              "    </tr>\n",
              "    <tr>\n",
              "      <th>50%</th>\n",
              "      <td>43.000000</td>\n",
              "      <td>32.000000</td>\n",
              "      <td>8.946010e+05</td>\n",
              "      <td>0.000000</td>\n",
              "    </tr>\n",
              "    <tr>\n",
              "      <th>75%</th>\n",
              "      <td>54.000000</td>\n",
              "      <td>73.000000</td>\n",
              "      <td>1.366666e+06</td>\n",
              "      <td>0.000000</td>\n",
              "    </tr>\n",
              "    <tr>\n",
              "      <th>max</th>\n",
              "      <td>85.000000</td>\n",
              "      <td>135.000000</td>\n",
              "      <td>1.035201e+07</td>\n",
              "      <td>1.000000</td>\n",
              "    </tr>\n",
              "  </tbody>\n",
              "</table>\n",
              "</div>"
            ],
            "text/plain": [
              "                 Age        Vintage  Avg_Account_Balance        Is_Lead\n",
              "count  245725.000000  245725.000000         2.457250e+05  245725.000000\n",
              "mean       43.856307      46.959141         1.128403e+06       0.237208\n",
              "std        14.828672      32.353136         8.529364e+05       0.425372\n",
              "min        23.000000       7.000000         2.079000e+04       0.000000\n",
              "25%        30.000000      20.000000         6.043100e+05       0.000000\n",
              "50%        43.000000      32.000000         8.946010e+05       0.000000\n",
              "75%        54.000000      73.000000         1.366666e+06       0.000000\n",
              "max        85.000000     135.000000         1.035201e+07       1.000000"
            ]
          },
          "metadata": {
            "tags": []
          },
          "execution_count": 79
        }
      ]
    },
    {
      "cell_type": "markdown",
      "metadata": {
        "id": "HJL16r2MNZjg"
      },
      "source": [
        "# Visualization"
      ]
    },
    {
      "cell_type": "markdown",
      "metadata": {
        "id": "08ZbaMlqNbyw"
      },
      "source": [
        "## Heatmap"
      ]
    },
    {
      "cell_type": "code",
      "metadata": {
        "colab": {
          "base_uri": "https://localhost:8080/",
          "height": 400
        },
        "id": "VK96zuKFU1Sz",
        "outputId": "d3129eef-9dce-456f-a704-70c399e9ad13"
      },
      "source": [
        "sns.heatmap(train.corr(),annot=True)"
      ],
      "execution_count": 80,
      "outputs": [
        {
          "output_type": "execute_result",
          "data": {
            "text/plain": [
              "<matplotlib.axes._subplots.AxesSubplot at 0x7fc0000f9f10>"
            ]
          },
          "metadata": {
            "tags": []
          },
          "execution_count": 80
        },
        {
          "output_type": "display_data",
          "data": {
            "image/png": "[encoded data removed]",
            "text/plain": [
              "<Figure size 432x288 with 2 Axes>"
            ]
          },
          "metadata": {
            "tags": []
          }
        }
      ]
    },
    {
      "cell_type": "markdown",
      "metadata": {
        "id": "vY9fKK81Nd-T"
      },
      "source": [
        "## Target Distribution"
      ]
    },
    {
      "cell_type": "code",
      "metadata": {
        "colab": {
          "base_uri": "https://localhost:8080/",
          "height": 357
        },
        "id": "JwAII4PnTifK",
        "outputId": "e551ee8a-235f-4c2f-dea6-30ea0fd164d8"
      },
      "source": [
        "sns.countplot(train['Is_Lead'])"
      ],
      "execution_count": 81,
      "outputs": [
        {
          "output_type": "stream",
          "text": [
            "/usr/local/lib/python3.7/dist-packages/seaborn/_decorators.py:43: FutureWarning: Pass the following variable as a keyword arg: x. From version 0.12, the only valid positional argument will be `data`, and passing other arguments without an explicit keyword will result in an error or misinterpretation.\n",
            "  FutureWarning\n"
          ],
          "name": "stderr"
        },
        {
          "output_type": "execute_result",
          "data": {
            "text/plain": [
              "<matplotlib.axes._subplots.AxesSubplot at 0x7fbffa4f0c90>"
            ]
          },
          "metadata": {
            "tags": []
          },
          "execution_count": 81
        },
        {
          "output_type": "display_data",
          "data": {
            "image/png": "[encoded data removed]",
            "text/plain": [
              "<Figure size 432x288 with 1 Axes>"
            ]
          },
          "metadata": {
            "tags": []
          }
        }
      ]
    },
    {
      "cell_type": "code",
      "metadata": {
        "colab": {
          "base_uri": "https://localhost:8080/"
        },
        "id": "JrqluZ_MUgvO",
        "outputId": "f257c135-2263-4ba8-ed56-af8de9a949e9"
      },
      "source": [
        "train['Is_Lead'].value_counts()"
      ],
      "execution_count": 82,
      "outputs": [
        {
          "output_type": "execute_result",
          "data": {
            "text/plain": [
              "0    187437\n",
              "1     58288\n",
              "Name: Is_Lead, dtype: int64"
            ]
          },
          "metadata": {
            "tags": []
          },
          "execution_count": 82
        }
      ]
    },
    {
      "cell_type": "code",
      "metadata": {
        "colab": {
          "base_uri": "https://localhost:8080/",
          "height": 357
        },
        "id": "mFAM74i4Urrz",
        "outputId": "09ad5ef2-40bd-4ad6-d97d-9a11eaec6796"
      },
      "source": [
        "sns.distplot(train['Age'])"
      ],
      "execution_count": 133,
      "outputs": [
        {
          "output_type": "stream",
          "text": [
            "/usr/local/lib/python3.7/dist-packages/seaborn/distributions.py:2557: FutureWarning: `distplot` is a deprecated function and will be removed in a future version. Please adapt your code to use either `displot` (a figure-level function with similar flexibility) or `histplot` (an axes-level function for histograms).\n",
            "  warnings.warn(msg, FutureWarning)\n"
          ],
          "name": "stderr"
        },
        {
          "output_type": "execute_result",
          "data": {
            "text/plain": [
              "<matplotlib.axes._subplots.AxesSubplot at 0x7fbff909de50>"
            ]
          },
          "metadata": {
            "tags": []
          },
          "execution_count": 133
        },
        {
          "output_type": "display_data",
          "data": {
            "image/png": "[encoded data removed]",
            "text/plain": [
              "<Figure size 432x288 with 1 Axes>"
            ]
          },
          "metadata": {
            "tags": []
          }
        }
      ]
    },
    {
      "cell_type": "code",
      "metadata": {
        "colab": {
          "base_uri": "https://localhost:8080/",
          "height": 357
        },
        "id": "QbdVe4f-UtnB",
        "outputId": "e8f76acc-7d2e-4b71-9403-9f4f737943cf"
      },
      "source": [
        "sns.distplot(train['Vintage'])"
      ],
      "execution_count": 134,
      "outputs": [
        {
          "output_type": "stream",
          "text": [
            "/usr/local/lib/python3.7/dist-packages/seaborn/distributions.py:2557: FutureWarning: `distplot` is a deprecated function and will be removed in a future version. Please adapt your code to use either `displot` (a figure-level function with similar flexibility) or `histplot` (an axes-level function for histograms).\n",
            "  warnings.warn(msg, FutureWarning)\n"
          ],
          "name": "stderr"
        },
        {
          "output_type": "execute_result",
          "data": {
            "text/plain": [
              "<matplotlib.axes._subplots.AxesSubplot at 0x7fbff8fc5d10>"
            ]
          },
          "metadata": {
            "tags": []
          },
          "execution_count": 134
        },
        {
          "output_type": "display_data",
          "data": {
            "image/png": "[encoded data removed]",
            "text/plain": [
              "<Figure size 432x288 with 1 Axes>"
            ]
          },
          "metadata": {
            "tags": []
          }
        }
      ]
    },
    {
      "cell_type": "code",
      "metadata": {
        "colab": {
          "base_uri": "https://localhost:8080/",
          "height": 368
        },
        "id": "exZJEbN4VCBe",
        "outputId": "7635f00d-b8a4-4239-eddd-2b5dc1b067ab"
      },
      "source": [
        "sns.distplot(train['Avg_Account_Balance'])"
      ],
      "execution_count": 135,
      "outputs": [
        {
          "output_type": "stream",
          "text": [
            "/usr/local/lib/python3.7/dist-packages/seaborn/distributions.py:2557: FutureWarning: `distplot` is a deprecated function and will be removed in a future version. Please adapt your code to use either `displot` (a figure-level function with similar flexibility) or `histplot` (an axes-level function for histograms).\n",
            "  warnings.warn(msg, FutureWarning)\n"
          ],
          "name": "stderr"
        },
        {
          "output_type": "execute_result",
          "data": {
            "text/plain": [
              "<matplotlib.axes._subplots.AxesSubplot at 0x7fbff8fbdbd0>"
            ]
          },
          "metadata": {
            "tags": []
          },
          "execution_count": 135
        },
        {
          "output_type": "display_data",
          "data": {
            "image/png": "[encoded data removed]",
            "text/plain": [
              "<Figure size 432x288 with 1 Axes>"
            ]
          },
          "metadata": {
            "tags": []
          }
        }
      ]
    },
    {
      "cell_type": "markdown",
      "metadata": {
        "id": "IZPnWaIcN-me"
      },
      "source": [
        "# Feature Engineering\n"
      ]
    },
    {
      "cell_type": "code",
      "metadata": {
        "id": "0I12KicspCwL"
      },
      "source": [
        "# Drop unique ID - No use in Machine learning/Predicton\n",
        "train.drop('ID',axis=1,inplace=True)"
      ],
      "execution_count": 83,
      "outputs": []
    },
    {
      "cell_type": "markdown",
      "metadata": {
        "id": "d1IjkRO0OWKV"
      },
      "source": [
        "## Age Bin"
      ]
    },
    {
      "cell_type": "code",
      "metadata": {
        "id": "YyFM0fdCwODL"
      },
      "source": [
        "qcut_series, qcut_intervals = pd.qcut(train.Age,\n",
        "        q=5,\n",
        "        labels=['oldest',\n",
        "                'not so old',\n",
        "                'medium',\n",
        "                'newer',\n",
        "                'latest'],retbins=True)"
      ],
      "execution_count": 84,
      "outputs": []
    },
    {
      "cell_type": "code",
      "metadata": {
        "id": "YV_c2PWixZnd"
      },
      "source": [
        "train['age_bin'] = qcut_series"
      ],
      "execution_count": 85,
      "outputs": []
    },
    {
      "cell_type": "markdown",
      "metadata": {
        "id": "UKzWig7bOYhY"
      },
      "source": [
        "## Vintage Bin"
      ]
    },
    {
      "cell_type": "code",
      "metadata": {
        "id": "ORrYWQZYP59v"
      },
      "source": [
        "qcut_series, qcut_intervals = pd.qcut(train.Vintage,\n",
        "        q=5,\n",
        "        labels=['oldest',\n",
        "                'not so old',\n",
        "                'medium',\n",
        "                'newer',\n",
        "                'latest'],retbins=True)"
      ],
      "execution_count": 86,
      "outputs": []
    },
    {
      "cell_type": "code",
      "metadata": {
        "id": "EbzOPKs1QL42"
      },
      "source": [
        "train['vintage_bin'] = qcut_series"
      ],
      "execution_count": 87,
      "outputs": []
    },
    {
      "cell_type": "markdown",
      "metadata": {
        "id": "2nUmOTrnOdmx"
      },
      "source": [
        "# Data Preprocessing"
      ]
    },
    {
      "cell_type": "markdown",
      "metadata": {
        "id": "vq4ewzHaOg7G"
      },
      "source": [
        "## Missing Visualization"
      ]
    },
    {
      "cell_type": "code",
      "metadata": {
        "id": "537t69qKqe7d"
      },
      "source": [
        "def visualNA(df,perc=0):\n",
        "    #Percentage of NAN Values \n",
        "    NAN = [(c, df[c].isna().mean()*100) for c in df]\n",
        "    NAN = pd.DataFrame(NAN, columns=[\"column_name\", \"percentage\"])\n",
        "    NAN = NAN[NAN.percentage > perc]\n",
        "    print(NAN.sort_values(\"percentage\", ascending=False))"
      ],
      "execution_count": 88,
      "outputs": []
    },
    {
      "cell_type": "code",
      "metadata": {
        "colab": {
          "base_uri": "https://localhost:8080/"
        },
        "id": "nOOhiPQuqfag",
        "outputId": "20488ad9-e328-4aa2-82de-799f3dc4349d"
      },
      "source": [
        "visualNA(train)"
      ],
      "execution_count": 89,
      "outputs": [
        {
          "output_type": "stream",
          "text": [
            "      column_name  percentage\n",
            "6  Credit_Product   11.934073\n"
          ],
          "name": "stdout"
        }
      ]
    },
    {
      "cell_type": "code",
      "metadata": {
        "colab": {
          "base_uri": "https://localhost:8080/"
        },
        "id": "qZ9vgwcXqkVi",
        "outputId": "0ef39b0c-f737-48e6-d91f-cb046d51ce92"
      },
      "source": [
        "train['Credit_Product'].unique()"
      ],
      "execution_count": 90,
      "outputs": [
        {
          "output_type": "execute_result",
          "data": {
            "text/plain": [
              "array(['No', nan, 'Yes'], dtype=object)"
            ]
          },
          "metadata": {
            "tags": []
          },
          "execution_count": 90
        }
      ]
    },
    {
      "cell_type": "markdown",
      "metadata": {
        "id": "Ml4_5_tQOlsF"
      },
      "source": [
        "## Fill Missing Value"
      ]
    },
    {
      "cell_type": "code",
      "metadata": {
        "id": "D2RAiJO_qpav"
      },
      "source": [
        "train['Credit_Product'].fillna('not',inplace=True)"
      ],
      "execution_count": 91,
      "outputs": []
    },
    {
      "cell_type": "markdown",
      "metadata": {
        "id": "FPYL4Cg9OtOD"
      },
      "source": [
        "## Log Transformation"
      ]
    },
    {
      "cell_type": "code",
      "metadata": {
        "id": "dHo7-WMMpslu"
      },
      "source": [
        "train['Avg_Account_Balance'] = np.log1p(train['Avg_Account_Balance'])"
      ],
      "execution_count": 136,
      "outputs": []
    },
    {
      "cell_type": "code",
      "metadata": {
        "colab": {
          "base_uri": "https://localhost:8080/",
          "height": 357
        },
        "id": "NBXOb48cVoeR",
        "outputId": "680f4840-9402-4704-da84-dd3706e42133"
      },
      "source": [
        "sns.distplot(train['Avg_Account_Balance'])"
      ],
      "execution_count": 137,
      "outputs": [
        {
          "output_type": "stream",
          "text": [
            "/usr/local/lib/python3.7/dist-packages/seaborn/distributions.py:2557: FutureWarning: `distplot` is a deprecated function and will be removed in a future version. Please adapt your code to use either `displot` (a figure-level function with similar flexibility) or `histplot` (an axes-level function for histograms).\n",
            "  warnings.warn(msg, FutureWarning)\n"
          ],
          "name": "stderr"
        },
        {
          "output_type": "execute_result",
          "data": {
            "text/plain": [
              "<matplotlib.axes._subplots.AxesSubplot at 0x7fbff8ed4050>"
            ]
          },
          "metadata": {
            "tags": []
          },
          "execution_count": 137
        },
        {
          "output_type": "display_data",
          "data": {
            "image/png": "[encoded data removed]",
            "text/plain": [
              "<Figure size 432x288 with 1 Axes>"
            ]
          },
          "metadata": {
            "tags": []
          }
        }
      ]
    },
    {
      "cell_type": "markdown",
      "metadata": {
        "id": "KUqAzTksx3R1"
      },
      "source": [
        "# Test"
      ]
    },
    {
      "cell_type": "markdown",
      "metadata": {
        "id": "sk-4Tuc6OzP4"
      },
      "source": [
        "## Import Dataset"
      ]
    },
    {
      "cell_type": "code",
      "metadata": {
        "id": "WFPMZbPhnHyZ"
      },
      "source": [
        "test = pd.read_csv('/content/drive/MyDrive/freelancer/job2/test.csv')"
      ],
      "execution_count": 94,
      "outputs": []
    },
    {
      "cell_type": "markdown",
      "metadata": {
        "id": "rPkj7GfxO1Qr"
      },
      "source": [
        "## Missing Visualization"
      ]
    },
    {
      "cell_type": "code",
      "metadata": {
        "id": "UMZ53U16d_Og",
        "colab": {
          "base_uri": "https://localhost:8080/"
        },
        "outputId": "0f41a476-b369-46ea-85ac-3ee61ce39e08"
      },
      "source": [
        "visualNA(test)"
      ],
      "execution_count": 95,
      "outputs": [
        {
          "output_type": "stream",
          "text": [
            "      column_name  percentage\n",
            "7  Credit_Product   11.890383\n"
          ],
          "name": "stdout"
        }
      ]
    },
    {
      "cell_type": "markdown",
      "metadata": {
        "id": "ClArxWdHO6CG"
      },
      "source": [
        "## Log Transformation"
      ]
    },
    {
      "cell_type": "code",
      "metadata": {
        "id": "R05qScQNnKPy"
      },
      "source": [
        "test['Avg_Account_Balance'] = np.log1p(test['Avg_Account_Balance'])"
      ],
      "execution_count": 96,
      "outputs": []
    },
    {
      "cell_type": "markdown",
      "metadata": {
        "id": "cF1XjMAjO8vp"
      },
      "source": [
        "## Fill Missing Value"
      ]
    },
    {
      "cell_type": "code",
      "metadata": {
        "id": "dDzJpNgqrZPH"
      },
      "source": [
        "test['Credit_Product'].fillna('not',inplace=True)"
      ],
      "execution_count": 97,
      "outputs": []
    },
    {
      "cell_type": "code",
      "metadata": {
        "id": "rEQrnKZJrs4u"
      },
      "source": [
        "# Save id for future submission\n",
        "id = test['ID']"
      ],
      "execution_count": 98,
      "outputs": []
    },
    {
      "cell_type": "code",
      "metadata": {
        "id": "pCNrYEvKrczZ"
      },
      "source": [
        "# Drop ID - No use\n",
        "test.drop('ID',axis=1,inplace=True)"
      ],
      "execution_count": 99,
      "outputs": []
    },
    {
      "cell_type": "markdown",
      "metadata": {
        "id": "duri6iQJPIWG"
      },
      "source": [
        "## Age Bin"
      ]
    },
    {
      "cell_type": "code",
      "metadata": {
        "id": "MCJrQdrKx5Hc"
      },
      "source": [
        "qcut_series, qcut_intervals = pd.qcut(test.Age,\n",
        "        q=5,\n",
        "        labels=['oldest',\n",
        "                'not so old',\n",
        "                'medium',\n",
        "                'newer',\n",
        "                'latest'],retbins=True)"
      ],
      "execution_count": 100,
      "outputs": []
    },
    {
      "cell_type": "code",
      "metadata": {
        "id": "8Fyk5KOHx6Vt"
      },
      "source": [
        "test['age_bin'] = qcut_series"
      ],
      "execution_count": 101,
      "outputs": []
    },
    {
      "cell_type": "markdown",
      "metadata": {
        "id": "2zUpNinTPKip"
      },
      "source": [
        "## Vintage Bin"
      ]
    },
    {
      "cell_type": "code",
      "metadata": {
        "id": "oiLqAUimQTj1"
      },
      "source": [
        "qcut_series, qcut_intervals = pd.qcut(test.Vintage,\n",
        "        q=5,\n",
        "        labels=['oldest',\n",
        "                'not so old',\n",
        "                'medium',\n",
        "                'newer',\n",
        "                'latest'],retbins=True)"
      ],
      "execution_count": 102,
      "outputs": []
    },
    {
      "cell_type": "code",
      "metadata": {
        "id": "Tw9l805AQVar"
      },
      "source": [
        "test['vintage_bin'] = qcut_series"
      ],
      "execution_count": 103,
      "outputs": []
    },
    {
      "cell_type": "markdown",
      "metadata": {
        "id": "djKzSr_ag7n9"
      },
      "source": [
        "# Modelling"
      ]
    },
    {
      "cell_type": "code",
      "metadata": {
        "id": "BLejmFzEY3AL",
        "colab": {
          "base_uri": "https://localhost:8080/"
        },
        "outputId": "1293ac85-9ac8-4f37-d0ed-6ffb310669da"
      },
      "source": [
        "train.columns"
      ],
      "execution_count": 104,
      "outputs": [
        {
          "output_type": "execute_result",
          "data": {
            "text/plain": [
              "Index(['Gender', 'Age', 'Region_Code', 'Occupation', 'Channel_Code', 'Vintage',\n",
              "       'Credit_Product', 'Avg_Account_Balance', 'Is_Active', 'Is_Lead',\n",
              "       'age_bin', 'vintage_bin'],\n",
              "      dtype='object')"
            ]
          },
          "metadata": {
            "tags": []
          },
          "execution_count": 104
        }
      ]
    },
    {
      "cell_type": "markdown",
      "metadata": {
        "id": "tDsmRABOPOp7"
      },
      "source": [
        "## Categorical Indexes"
      ]
    },
    {
      "cell_type": "code",
      "metadata": {
        "id": "tnWVAs56p-Rw"
      },
      "source": [
        "Categorical_feautres_index = [0,2,3,4,6,8,9,10]"
      ],
      "execution_count": 105,
      "outputs": []
    },
    {
      "cell_type": "markdown",
      "metadata": {
        "id": "kXJcIqTCPQuO"
      },
      "source": [
        "## Independent and Dependent Variable"
      ]
    },
    {
      "cell_type": "code",
      "metadata": {
        "id": "n_8h-w_9qDwD"
      },
      "source": [
        "x = train.drop('Is_Lead',axis=1)\n",
        "y = train['Is_Lead']"
      ],
      "execution_count": 106,
      "outputs": []
    },
    {
      "cell_type": "markdown",
      "metadata": {
        "id": "ffVgAFInPVJQ"
      },
      "source": [
        "## Train Test Split"
      ]
    },
    {
      "cell_type": "code",
      "metadata": {
        "id": "XtMUYhVYqLaw"
      },
      "source": [
        "X_train, X_test, y_train, y_test = train_test_split(x, y, test_size=0.2, random_state=42)"
      ],
      "execution_count": 107,
      "outputs": []
    },
    {
      "cell_type": "markdown",
      "metadata": {
        "id": "RbUw_ikFPXBC"
      },
      "source": [
        "## Model Initialization"
      ]
    },
    {
      "cell_type": "code",
      "metadata": {
        "id": "fNbaJA-Om15K"
      },
      "source": [
        "model = CatBoostClassifier(auto_class_weights='Balanced',eval_metric='AUC',\n",
        "                           random_seed=42,bootstrap_type='Bernoulli',subsample=.66,sampling_frequency='PerTreeLevel')"
      ],
      "execution_count": 108,
      "outputs": []
    },
    {
      "cell_type": "markdown",
      "metadata": {
        "id": "_lV8tkZxPZG4"
      },
      "source": [
        "## Model Training"
      ]
    },
    {
      "cell_type": "code",
      "metadata": {
        "colab": {
          "base_uri": "https://localhost:8080/"
        },
        "id": "F3RYKQ0JnELo",
        "outputId": "a146d13e-6e21-4726-9fc0-f4d5f72e796d"
      },
      "source": [
        "# fit the model with the training data\n",
        "model.fit(X_train,y_train,eval_set=[(X_test,y_test)],cat_features = Categorical_feautres_index,\n",
        "          early_stopping_rounds=20,plot=False)"
      ],
      "execution_count": 109,
      "outputs": [
        {
          "output_type": "stream",
          "text": [
            "Learning rate set to 0.116792\n",
            "0:\ttest: 0.8632052\tbest: 0.8632052 (0)\ttotal: 365ms\tremaining: 6m 4s\n",
            "1:\ttest: 0.8633841\tbest: 0.8633841 (1)\ttotal: 700ms\tremaining: 5m 49s\n",
            "2:\ttest: 0.8638287\tbest: 0.8638287 (2)\ttotal: 1.01s\tremaining: 5m 37s\n",
            "3:\ttest: 0.8633368\tbest: 0.8638287 (2)\ttotal: 1.25s\tremaining: 5m 10s\n",
            "4:\ttest: 0.8643523\tbest: 0.8643523 (4)\ttotal: 1.54s\tremaining: 5m 5s\n",
            "5:\ttest: 0.8656846\tbest: 0.8656846 (5)\ttotal: 1.88s\tremaining: 5m 12s\n",
            "6:\ttest: 0.8658682\tbest: 0.8658682 (6)\ttotal: 2.1s\tremaining: 4m 57s\n",
            "7:\ttest: 0.8664989\tbest: 0.8664989 (7)\ttotal: 2.38s\tremaining: 4m 54s\n",
            "8:\ttest: 0.8667419\tbest: 0.8667419 (8)\ttotal: 2.65s\tremaining: 4m 51s\n",
            "9:\ttest: 0.8671328\tbest: 0.8671328 (9)\ttotal: 2.91s\tremaining: 4m 48s\n",
            "10:\ttest: 0.8672064\tbest: 0.8672064 (10)\ttotal: 3.2s\tremaining: 4m 47s\n",
            "11:\ttest: 0.8675388\tbest: 0.8675388 (11)\ttotal: 3.46s\tremaining: 4m 44s\n",
            "12:\ttest: 0.8675812\tbest: 0.8675812 (12)\ttotal: 3.74s\tremaining: 4m 43s\n",
            "13:\ttest: 0.8682383\tbest: 0.8682383 (13)\ttotal: 4.04s\tremaining: 4m 44s\n",
            "14:\ttest: 0.8681769\tbest: 0.8682383 (13)\ttotal: 4.15s\tremaining: 4m 32s\n",
            "15:\ttest: 0.8685352\tbest: 0.8685352 (15)\ttotal: 4.44s\tremaining: 4m 33s\n",
            "16:\ttest: 0.8686669\tbest: 0.8686669 (16)\ttotal: 4.74s\tremaining: 4m 34s\n",
            "17:\ttest: 0.8686647\tbest: 0.8686669 (16)\ttotal: 5.07s\tremaining: 4m 36s\n",
            "18:\ttest: 0.8691734\tbest: 0.8691734 (18)\ttotal: 5.39s\tremaining: 4m 38s\n",
            "19:\ttest: 0.8692630\tbest: 0.8692630 (19)\ttotal: 5.61s\tremaining: 4m 34s\n",
            "20:\ttest: 0.8694061\tbest: 0.8694061 (20)\ttotal: 5.91s\tremaining: 4m 35s\n",
            "21:\ttest: 0.8694709\tbest: 0.8694709 (21)\ttotal: 6.19s\tremaining: 4m 35s\n",
            "22:\ttest: 0.8696655\tbest: 0.8696655 (22)\ttotal: 6.46s\tremaining: 4m 34s\n",
            "23:\ttest: 0.8696733\tbest: 0.8696733 (23)\ttotal: 6.71s\tremaining: 4m 32s\n",
            "24:\ttest: 0.8697156\tbest: 0.8697156 (24)\ttotal: 7.07s\tremaining: 4m 35s\n",
            "25:\ttest: 0.8698130\tbest: 0.8698130 (25)\ttotal: 7.41s\tremaining: 4m 37s\n",
            "26:\ttest: 0.8699212\tbest: 0.8699212 (26)\ttotal: 7.78s\tremaining: 4m 40s\n",
            "27:\ttest: 0.8701536\tbest: 0.8701536 (27)\ttotal: 8.1s\tremaining: 4m 41s\n",
            "28:\ttest: 0.8701482\tbest: 0.8701536 (27)\ttotal: 8.41s\tremaining: 4m 41s\n",
            "29:\ttest: 0.8702418\tbest: 0.8702418 (29)\ttotal: 8.72s\tremaining: 4m 41s\n",
            "30:\ttest: 0.8702689\tbest: 0.8702689 (30)\ttotal: 9.06s\tremaining: 4m 43s\n",
            "31:\ttest: 0.8702807\tbest: 0.8702807 (31)\ttotal: 9.41s\tremaining: 4m 44s\n",
            "32:\ttest: 0.8702750\tbest: 0.8702807 (31)\ttotal: 9.73s\tremaining: 4m 45s\n",
            "33:\ttest: 0.8702851\tbest: 0.8702851 (33)\ttotal: 10.1s\tremaining: 4m 46s\n",
            "34:\ttest: 0.8702918\tbest: 0.8702918 (34)\ttotal: 10.4s\tremaining: 4m 45s\n",
            "35:\ttest: 0.8703154\tbest: 0.8703154 (35)\ttotal: 10.6s\tremaining: 4m 44s\n",
            "36:\ttest: 0.8703853\tbest: 0.8703853 (36)\ttotal: 11s\tremaining: 4m 45s\n",
            "37:\ttest: 0.8703749\tbest: 0.8703853 (36)\ttotal: 11.3s\tremaining: 4m 46s\n",
            "38:\ttest: 0.8703890\tbest: 0.8703890 (38)\ttotal: 11.6s\tremaining: 4m 46s\n",
            "39:\ttest: 0.8704868\tbest: 0.8704868 (39)\ttotal: 11.9s\tremaining: 4m 46s\n",
            "40:\ttest: 0.8705176\tbest: 0.8705176 (40)\ttotal: 12.2s\tremaining: 4m 46s\n",
            "41:\ttest: 0.8705898\tbest: 0.8705898 (41)\ttotal: 12.5s\tremaining: 4m 46s\n",
            "42:\ttest: 0.8706903\tbest: 0.8706903 (42)\ttotal: 12.9s\tremaining: 4m 47s\n",
            "43:\ttest: 0.8707225\tbest: 0.8707225 (43)\ttotal: 13.2s\tremaining: 4m 45s\n",
            "44:\ttest: 0.8707844\tbest: 0.8707844 (44)\ttotal: 13.4s\tremaining: 4m 44s\n",
            "45:\ttest: 0.8708695\tbest: 0.8708695 (45)\ttotal: 13.8s\tremaining: 4m 45s\n",
            "46:\ttest: 0.8708553\tbest: 0.8708695 (45)\ttotal: 14.1s\tremaining: 4m 45s\n",
            "47:\ttest: 0.8708735\tbest: 0.8708735 (47)\ttotal: 14.4s\tremaining: 4m 45s\n",
            "48:\ttest: 0.8709156\tbest: 0.8709156 (48)\ttotal: 14.7s\tremaining: 4m 44s\n",
            "49:\ttest: 0.8709760\tbest: 0.8709760 (49)\ttotal: 14.9s\tremaining: 4m 43s\n",
            "50:\ttest: 0.8709967\tbest: 0.8709967 (50)\ttotal: 15.3s\tremaining: 4m 44s\n",
            "51:\ttest: 0.8710150\tbest: 0.8710150 (51)\ttotal: 15.6s\tremaining: 4m 44s\n",
            "52:\ttest: 0.8710528\tbest: 0.8710528 (52)\ttotal: 15.9s\tremaining: 4m 44s\n",
            "53:\ttest: 0.8709947\tbest: 0.8710528 (52)\ttotal: 16.3s\tremaining: 4m 44s\n",
            "54:\ttest: 0.8710213\tbest: 0.8710528 (52)\ttotal: 16.6s\tremaining: 4m 45s\n",
            "55:\ttest: 0.8710912\tbest: 0.8710912 (55)\ttotal: 16.9s\tremaining: 4m 44s\n",
            "56:\ttest: 0.8710794\tbest: 0.8710912 (55)\ttotal: 17.2s\tremaining: 4m 45s\n",
            "57:\ttest: 0.8710454\tbest: 0.8710912 (55)\ttotal: 17.5s\tremaining: 4m 44s\n",
            "58:\ttest: 0.8711081\tbest: 0.8711081 (58)\ttotal: 17.8s\tremaining: 4m 44s\n",
            "59:\ttest: 0.8711716\tbest: 0.8711716 (59)\ttotal: 18.1s\tremaining: 4m 44s\n",
            "60:\ttest: 0.8711634\tbest: 0.8711716 (59)\ttotal: 18.5s\tremaining: 4m 44s\n",
            "61:\ttest: 0.8711972\tbest: 0.8711972 (61)\ttotal: 18.7s\tremaining: 4m 43s\n",
            "62:\ttest: 0.8712312\tbest: 0.8712312 (62)\ttotal: 19s\tremaining: 4m 43s\n",
            "63:\ttest: 0.8712503\tbest: 0.8712503 (63)\ttotal: 19.4s\tremaining: 4m 43s\n",
            "64:\ttest: 0.8712446\tbest: 0.8712503 (63)\ttotal: 19.7s\tremaining: 4m 42s\n",
            "65:\ttest: 0.8712247\tbest: 0.8712503 (63)\ttotal: 19.9s\tremaining: 4m 41s\n",
            "66:\ttest: 0.8712163\tbest: 0.8712503 (63)\ttotal: 20.2s\tremaining: 4m 41s\n",
            "67:\ttest: 0.8712253\tbest: 0.8712503 (63)\ttotal: 20.5s\tremaining: 4m 40s\n",
            "68:\ttest: 0.8712479\tbest: 0.8712503 (63)\ttotal: 20.7s\tremaining: 4m 39s\n",
            "69:\ttest: 0.8712540\tbest: 0.8712540 (69)\ttotal: 21.1s\tremaining: 4m 39s\n",
            "70:\ttest: 0.8712609\tbest: 0.8712609 (70)\ttotal: 21.3s\tremaining: 4m 39s\n",
            "71:\ttest: 0.8713213\tbest: 0.8713213 (71)\ttotal: 21.6s\tremaining: 4m 38s\n",
            "72:\ttest: 0.8713445\tbest: 0.8713445 (72)\ttotal: 21.9s\tremaining: 4m 38s\n",
            "73:\ttest: 0.8713441\tbest: 0.8713445 (72)\ttotal: 22.2s\tremaining: 4m 37s\n",
            "74:\ttest: 0.8713464\tbest: 0.8713464 (74)\ttotal: 22.5s\tremaining: 4m 37s\n",
            "75:\ttest: 0.8713854\tbest: 0.8713854 (75)\ttotal: 22.8s\tremaining: 4m 37s\n",
            "76:\ttest: 0.8713854\tbest: 0.8713854 (76)\ttotal: 23.1s\tremaining: 4m 37s\n",
            "77:\ttest: 0.8715011\tbest: 0.8715011 (77)\ttotal: 23.5s\tremaining: 4m 37s\n",
            "78:\ttest: 0.8715086\tbest: 0.8715086 (78)\ttotal: 23.8s\tremaining: 4m 37s\n",
            "79:\ttest: 0.8715717\tbest: 0.8715717 (79)\ttotal: 24.1s\tremaining: 4m 37s\n",
            "80:\ttest: 0.8716267\tbest: 0.8716267 (80)\ttotal: 24.4s\tremaining: 4m 37s\n",
            "81:\ttest: 0.8717201\tbest: 0.8717201 (81)\ttotal: 24.7s\tremaining: 4m 36s\n",
            "82:\ttest: 0.8717130\tbest: 0.8717201 (81)\ttotal: 24.9s\tremaining: 4m 35s\n",
            "83:\ttest: 0.8717209\tbest: 0.8717209 (83)\ttotal: 25.3s\tremaining: 4m 35s\n",
            "84:\ttest: 0.8716909\tbest: 0.8717209 (83)\ttotal: 25.5s\tremaining: 4m 34s\n",
            "85:\ttest: 0.8716909\tbest: 0.8717209 (83)\ttotal: 25.6s\tremaining: 4m 32s\n",
            "86:\ttest: 0.8717034\tbest: 0.8717209 (83)\ttotal: 26s\tremaining: 4m 33s\n",
            "87:\ttest: 0.8716698\tbest: 0.8717209 (83)\ttotal: 26.3s\tremaining: 4m 33s\n",
            "88:\ttest: 0.8717174\tbest: 0.8717209 (83)\ttotal: 26.7s\tremaining: 4m 32s\n",
            "89:\ttest: 0.8717483\tbest: 0.8717483 (89)\ttotal: 26.9s\tremaining: 4m 32s\n",
            "90:\ttest: 0.8717448\tbest: 0.8717483 (89)\ttotal: 27.2s\tremaining: 4m 32s\n",
            "91:\ttest: 0.8717374\tbest: 0.8717483 (89)\ttotal: 27.5s\tremaining: 4m 31s\n",
            "92:\ttest: 0.8717587\tbest: 0.8717587 (92)\ttotal: 27.8s\tremaining: 4m 30s\n",
            "93:\ttest: 0.8717499\tbest: 0.8717587 (92)\ttotal: 28s\tremaining: 4m 30s\n",
            "94:\ttest: 0.8717440\tbest: 0.8717587 (92)\ttotal: 28.4s\tremaining: 4m 30s\n",
            "95:\ttest: 0.8717440\tbest: 0.8717587 (92)\ttotal: 28.5s\tremaining: 4m 27s\n",
            "96:\ttest: 0.8717493\tbest: 0.8717587 (92)\ttotal: 28.7s\tremaining: 4m 27s\n",
            "97:\ttest: 0.8717546\tbest: 0.8717587 (92)\ttotal: 29s\tremaining: 4m 26s\n",
            "98:\ttest: 0.8717630\tbest: 0.8717630 (98)\ttotal: 29.3s\tremaining: 4m 26s\n",
            "99:\ttest: 0.8717692\tbest: 0.8717692 (99)\ttotal: 29.6s\tremaining: 4m 26s\n",
            "100:\ttest: 0.8717936\tbest: 0.8717936 (100)\ttotal: 29.9s\tremaining: 4m 26s\n",
            "101:\ttest: 0.8717833\tbest: 0.8717936 (100)\ttotal: 30.2s\tremaining: 4m 25s\n",
            "102:\ttest: 0.8718299\tbest: 0.8718299 (102)\ttotal: 30.5s\tremaining: 4m 25s\n",
            "103:\ttest: 0.8718030\tbest: 0.8718299 (102)\ttotal: 30.8s\tremaining: 4m 24s\n",
            "104:\ttest: 0.8717816\tbest: 0.8718299 (102)\ttotal: 31s\tremaining: 4m 24s\n",
            "105:\ttest: 0.8717670\tbest: 0.8718299 (102)\ttotal: 31.3s\tremaining: 4m 23s\n",
            "106:\ttest: 0.8717921\tbest: 0.8718299 (102)\ttotal: 31.6s\tremaining: 4m 23s\n",
            "107:\ttest: 0.8718806\tbest: 0.8718806 (107)\ttotal: 31.9s\tremaining: 4m 23s\n",
            "108:\ttest: 0.8718844\tbest: 0.8718844 (108)\ttotal: 32.3s\tremaining: 4m 23s\n",
            "109:\ttest: 0.8719066\tbest: 0.8719066 (109)\ttotal: 32.5s\tremaining: 4m 23s\n",
            "110:\ttest: 0.8719197\tbest: 0.8719197 (110)\ttotal: 32.9s\tremaining: 4m 23s\n",
            "111:\ttest: 0.8719161\tbest: 0.8719197 (110)\ttotal: 33.2s\tremaining: 4m 23s\n",
            "112:\ttest: 0.8718934\tbest: 0.8719197 (110)\ttotal: 33.5s\tremaining: 4m 23s\n",
            "113:\ttest: 0.8719101\tbest: 0.8719197 (110)\ttotal: 33.8s\tremaining: 4m 22s\n",
            "114:\ttest: 0.8719321\tbest: 0.8719321 (114)\ttotal: 34.1s\tremaining: 4m 22s\n",
            "115:\ttest: 0.8719362\tbest: 0.8719362 (115)\ttotal: 34.4s\tremaining: 4m 22s\n",
            "116:\ttest: 0.8719237\tbest: 0.8719362 (115)\ttotal: 34.8s\tremaining: 4m 22s\n",
            "117:\ttest: 0.8719167\tbest: 0.8719362 (115)\ttotal: 35.2s\tremaining: 4m 22s\n",
            "118:\ttest: 0.8719418\tbest: 0.8719418 (118)\ttotal: 35.5s\tremaining: 4m 22s\n",
            "119:\ttest: 0.8719698\tbest: 0.8719698 (119)\ttotal: 35.8s\tremaining: 4m 22s\n",
            "120:\ttest: 0.8719692\tbest: 0.8719698 (119)\ttotal: 36.1s\tremaining: 4m 22s\n",
            "121:\ttest: 0.8719575\tbest: 0.8719698 (119)\ttotal: 36.5s\tremaining: 4m 22s\n",
            "122:\ttest: 0.8719654\tbest: 0.8719698 (119)\ttotal: 36.8s\tremaining: 4m 22s\n",
            "123:\ttest: 0.8719798\tbest: 0.8719798 (123)\ttotal: 37.1s\tremaining: 4m 22s\n",
            "124:\ttest: 0.8719684\tbest: 0.8719798 (123)\ttotal: 37.4s\tremaining: 4m 22s\n",
            "125:\ttest: 0.8719570\tbest: 0.8719798 (123)\ttotal: 37.8s\tremaining: 4m 21s\n",
            "126:\ttest: 0.8719549\tbest: 0.8719798 (123)\ttotal: 38.1s\tremaining: 4m 21s\n",
            "127:\ttest: 0.8719245\tbest: 0.8719798 (123)\ttotal: 38.4s\tremaining: 4m 21s\n",
            "128:\ttest: 0.8719022\tbest: 0.8719798 (123)\ttotal: 38.7s\tremaining: 4m 21s\n",
            "129:\ttest: 0.8719047\tbest: 0.8719798 (123)\ttotal: 39s\tremaining: 4m 21s\n",
            "130:\ttest: 0.8718989\tbest: 0.8719798 (123)\ttotal: 39.3s\tremaining: 4m 20s\n",
            "131:\ttest: 0.8719084\tbest: 0.8719798 (123)\ttotal: 39.6s\tremaining: 4m 20s\n",
            "132:\ttest: 0.8718811\tbest: 0.8719798 (123)\ttotal: 40s\tremaining: 4m 20s\n",
            "133:\ttest: 0.8718996\tbest: 0.8719798 (123)\ttotal: 40.3s\tremaining: 4m 20s\n",
            "134:\ttest: 0.8718860\tbest: 0.8719798 (123)\ttotal: 40.7s\tremaining: 4m 20s\n",
            "135:\ttest: 0.8719269\tbest: 0.8719798 (123)\ttotal: 41s\tremaining: 4m 20s\n",
            "136:\ttest: 0.8719410\tbest: 0.8719798 (123)\ttotal: 41.3s\tremaining: 4m 20s\n",
            "137:\ttest: 0.8719332\tbest: 0.8719798 (123)\ttotal: 41.6s\tremaining: 4m 19s\n",
            "138:\ttest: 0.8719271\tbest: 0.8719798 (123)\ttotal: 42s\tremaining: 4m 19s\n",
            "139:\ttest: 0.8718985\tbest: 0.8719798 (123)\ttotal: 42.3s\tremaining: 4m 19s\n",
            "140:\ttest: 0.8718895\tbest: 0.8719798 (123)\ttotal: 42.7s\tremaining: 4m 19s\n",
            "141:\ttest: 0.8719239\tbest: 0.8719798 (123)\ttotal: 43s\tremaining: 4m 19s\n",
            "142:\ttest: 0.8719430\tbest: 0.8719798 (123)\ttotal: 43.3s\tremaining: 4m 19s\n",
            "143:\ttest: 0.8719359\tbest: 0.8719798 (123)\ttotal: 43.7s\tremaining: 4m 19s\n",
            "Stopped by overfitting detector  (20 iterations wait)\n",
            "\n",
            "bestTest = 0.8719798255\n",
            "bestIteration = 123\n",
            "\n",
            "Shrink model to first 124 iterations.\n"
          ],
          "name": "stdout"
        },
        {
          "output_type": "execute_result",
          "data": {
            "text/plain": [
              "<catboost.core.CatBoostClassifier at 0x7fbff9cc2110>"
            ]
          },
          "metadata": {
            "tags": []
          },
          "execution_count": 109
        }
      ]
    },
    {
      "cell_type": "markdown",
      "metadata": {
        "id": "JIl3OOstPa45"
      },
      "source": [
        "## Feature Importance"
      ]
    },
    {
      "cell_type": "code",
      "metadata": {
        "colab": {
          "base_uri": "https://localhost:8080/",
          "height": 517
        },
        "id": "70p3ff_OjvVw",
        "outputId": "b2956fc9-039e-42d1-a7c6-75afc1f85a09"
      },
      "source": [
        "coeff_df = pd.DataFrame(model.get_feature_importance(),x.columns,columns=['Coefficient'])\n",
        "\n",
        "fig, ax = plt.subplots(1,1,figsize=(12,8))\n",
        "coeff_df.sort_values(by='Coefficient',ascending=True).plot(kind='barh',ax=ax)\n",
        "plt.xlabel('Features')\n",
        "plt.title('Top Features');"
      ],
      "execution_count": 110,
      "outputs": [
        {
          "output_type": "display_data",
          "data": {
            "image/png": "[encoded data removed]",
            "text/plain": [
              "<Figure size 864x576 with 1 Axes>"
            ]
          },
          "metadata": {
            "tags": []
          }
        }
      ]
    },
    {
      "cell_type": "markdown",
      "metadata": {
        "id": "l22kd1jePdFa"
      },
      "source": [
        "## Model Evaluation"
      ]
    },
    {
      "cell_type": "code",
      "metadata": {
        "id": "3YKvNBJGeg9d"
      },
      "source": [
        "pred_eval = model.predict(X_test)"
      ],
      "execution_count": 111,
      "outputs": []
    },
    {
      "cell_type": "markdown",
      "metadata": {
        "id": "WSgWu6i_PfE6"
      },
      "source": [
        "### Confusion  Matrix"
      ]
    },
    {
      "cell_type": "code",
      "metadata": {
        "id": "5AGqysLYezX4"
      },
      "source": [
        "cm = confusion_matrix(y_test, pred_eval)/y_test.shape[0]*100"
      ],
      "execution_count": 112,
      "outputs": []
    },
    {
      "cell_type": "code",
      "metadata": {
        "colab": {
          "base_uri": "https://localhost:8080/",
          "height": 446
        },
        "id": "qLIL3UC7emG_",
        "outputId": "fb17c1e9-803f-49e8-d690-4938d4ec9e39"
      },
      "source": [
        "\n",
        "sns.set()\n",
        "fig, ax0 = plt.subplots(figsize = (14,7))\n",
        "\n",
        "ax = sns.heatmap(data = cm, annot=True, fmt = '.1f', square=1, linewidths=.5, cmap=\"YlGnBu\")\n",
        "ax0.set_title('Confusion Matrix')\n",
        "for t in ax.texts: t.set_text(t.get_text() + \" %\")\n",
        "plt.show()"
      ],
      "execution_count": 113,
      "outputs": [
        {
          "output_type": "display_data",
          "data": {
            "image/png": "[encoded data removed]",
            "text/plain": [
              "<Figure size 1008x504 with 2 Axes>"
            ]
          },
          "metadata": {
            "tags": []
          }
        }
      ]
    },
    {
      "cell_type": "markdown",
      "metadata": {
        "id": "wIIQl1gnPhqS"
      },
      "source": [
        "### Classification Report"
      ]
    },
    {
      "cell_type": "code",
      "metadata": {
        "colab": {
          "base_uri": "https://localhost:8080/"
        },
        "id": "d2CANB-_fAZL",
        "outputId": "b74eaa8d-4620-4e2c-ffdc-0b7094554f8c"
      },
      "source": [
        "print(classification_report(y_test,pred_eval))"
      ],
      "execution_count": 114,
      "outputs": [
        {
          "output_type": "stream",
          "text": [
            "              precision    recall  f1-score   support\n",
            "\n",
            "           0       0.92      0.84      0.88     37520\n",
            "           1       0.59      0.77      0.67     11625\n",
            "\n",
            "    accuracy                           0.82     49145\n",
            "   macro avg       0.76      0.80      0.77     49145\n",
            "weighted avg       0.84      0.82      0.83     49145\n",
            "\n"
          ],
          "name": "stdout"
        }
      ]
    },
    {
      "cell_type": "markdown",
      "metadata": {
        "id": "CjctRHz8NLyf"
      },
      "source": [
        "# Cross Validation"
      ]
    },
    {
      "cell_type": "markdown",
      "metadata": {
        "id": "OjNgCkw2PkV4"
      },
      "source": [
        "## Stratified Cross Validation"
      ]
    },
    {
      "cell_type": "code",
      "metadata": {
        "id": "7OFbAFujNQgV"
      },
      "source": [
        "from sklearn.model_selection import StratifiedKFold"
      ],
      "execution_count": 115,
      "outputs": []
    },
    {
      "cell_type": "code",
      "metadata": {
        "colab": {
          "base_uri": "https://localhost:8080/"
        },
        "id": "fig9NkpwNNbq",
        "outputId": "f1a44ef8-f09f-493a-9b3b-ba56a21c6556"
      },
      "source": [
        "skf = StratifiedKFold(n_splits=5,random_state=42) # 5 k-fold"
      ],
      "execution_count": 116,
      "outputs": [
        {
          "output_type": "stream",
          "text": [
            "/usr/local/lib/python3.7/dist-packages/sklearn/model_selection/_split.py:296: FutureWarning: Setting a random_state has no effect since shuffle is False. This will raise an error in 0.24. You should leave random_state to its default (None), or set shuffle=True.\n",
            "  FutureWarning\n"
          ],
          "name": "stderr"
        }
      ]
    },
    {
      "cell_type": "code",
      "metadata": {
        "id": "TvzeSkb7OM1O"
      },
      "source": [
        "k_fold = 1\n",
        "max_ = 0"
      ],
      "execution_count": 117,
      "outputs": []
    },
    {
      "cell_type": "markdown",
      "metadata": {
        "id": "oX_mUJO1PtJV"
      },
      "source": [
        "## Training to choose best model"
      ]
    },
    {
      "cell_type": "code",
      "metadata": {
        "colab": {
          "base_uri": "https://localhost:8080/"
        },
        "id": "3f6EX5-ENYVm",
        "outputId": "fd0d9340-b304-4a6e-bf2f-841330fa5131"
      },
      "source": [
        "for train_index, test_index in skf.split(x, y):\n",
        "  X_train = x.iloc[train_index]\n",
        "  X_test = x.iloc[test_index]\n",
        "  y_train = y.iloc[train_index]\n",
        "  y_test = y.iloc[test_index]\n",
        "\n",
        "  model = CatBoostClassifier(auto_class_weights='Balanced',eval_metric='AUC',random_state=42,\n",
        "                             bootstrap_type='Bernoulli',subsample=.66,sampling_frequency='PerTreeLevel')\n",
        "  # fit the model with the training data\n",
        "  model.fit(X_train,y_train,eval_set=[(X_test,y_test)],cat_features = Categorical_feautres_index,\n",
        "            early_stopping_rounds=20,plot=False)\n",
        "  \n",
        "  score = model.get_best_score()['validation']['AUC']\n",
        "\n",
        "  if score > max_:\n",
        "    model.save_model('best_model')\n",
        "    max_ = score\n",
        "    print('model saved')\n",
        "  \n",
        "\n",
        "  k_fold = k_fold+1\n",
        "\n"
      ],
      "execution_count": 118,
      "outputs": [
        {
          "output_type": "stream",
          "text": [
            "Learning rate set to 0.116792\n",
            "0:\ttest: 0.8634850\tbest: 0.8634850 (0)\ttotal: 351ms\tremaining: 5m 50s\n",
            "1:\ttest: 0.8636835\tbest: 0.8636835 (1)\ttotal: 698ms\tremaining: 5m 48s\n",
            "2:\ttest: 0.8656412\tbest: 0.8656412 (2)\ttotal: 992ms\tremaining: 5m 29s\n",
            "3:\ttest: 0.8657612\tbest: 0.8657612 (3)\ttotal: 1.25s\tremaining: 5m 12s\n",
            "4:\ttest: 0.8665093\tbest: 0.8665093 (4)\ttotal: 1.54s\tremaining: 5m 6s\n",
            "5:\ttest: 0.8674443\tbest: 0.8674443 (5)\ttotal: 1.79s\tremaining: 4m 55s\n",
            "6:\ttest: 0.8672157\tbest: 0.8674443 (5)\ttotal: 2.1s\tremaining: 4m 58s\n",
            "7:\ttest: 0.8674244\tbest: 0.8674443 (5)\ttotal: 2.44s\tremaining: 5m 2s\n",
            "8:\ttest: 0.8676125\tbest: 0.8676125 (8)\ttotal: 2.73s\tremaining: 5m\n",
            "9:\ttest: 0.8677300\tbest: 0.8677300 (9)\ttotal: 2.96s\tremaining: 4m 53s\n",
            "10:\ttest: 0.8679234\tbest: 0.8679234 (10)\ttotal: 3.22s\tremaining: 4m 49s\n",
            "11:\ttest: 0.8681286\tbest: 0.8681286 (11)\ttotal: 3.48s\tremaining: 4m 46s\n",
            "12:\ttest: 0.8686513\tbest: 0.8686513 (12)\ttotal: 3.74s\tremaining: 4m 43s\n",
            "13:\ttest: 0.8686898\tbest: 0.8686898 (13)\ttotal: 4.03s\tremaining: 4m 43s\n",
            "14:\ttest: 0.8688488\tbest: 0.8688488 (14)\ttotal: 4.3s\tremaining: 4m 42s\n",
            "15:\ttest: 0.8689541\tbest: 0.8689541 (15)\ttotal: 4.57s\tremaining: 4m 41s\n",
            "16:\ttest: 0.8693791\tbest: 0.8693791 (16)\ttotal: 4.88s\tremaining: 4m 41s\n",
            "17:\ttest: 0.8693687\tbest: 0.8693791 (16)\ttotal: 5.09s\tremaining: 4m 37s\n",
            "18:\ttest: 0.8694834\tbest: 0.8694834 (18)\ttotal: 5.34s\tremaining: 4m 35s\n",
            "19:\ttest: 0.8696226\tbest: 0.8696226 (19)\ttotal: 5.6s\tremaining: 4m 34s\n",
            "20:\ttest: 0.8696482\tbest: 0.8696482 (20)\ttotal: 5.86s\tremaining: 4m 33s\n",
            "21:\ttest: 0.8698257\tbest: 0.8698257 (21)\ttotal: 6.13s\tremaining: 4m 32s\n",
            "22:\ttest: 0.8700266\tbest: 0.8700266 (22)\ttotal: 6.41s\tremaining: 4m 32s\n",
            "23:\ttest: 0.8703749\tbest: 0.8703749 (23)\ttotal: 6.7s\tremaining: 4m 32s\n",
            "24:\ttest: 0.8704091\tbest: 0.8704091 (24)\ttotal: 7.01s\tremaining: 4m 33s\n",
            "25:\ttest: 0.8704365\tbest: 0.8704365 (25)\ttotal: 7.3s\tremaining: 4m 33s\n",
            "26:\ttest: 0.8704202\tbest: 0.8704365 (25)\ttotal: 7.6s\tremaining: 4m 33s\n",
            "27:\ttest: 0.8704250\tbest: 0.8704365 (25)\ttotal: 7.75s\tremaining: 4m 29s\n",
            "28:\ttest: 0.8705319\tbest: 0.8705319 (28)\ttotal: 8.09s\tremaining: 4m 30s\n",
            "29:\ttest: 0.8706527\tbest: 0.8706527 (29)\ttotal: 8.38s\tremaining: 4m 30s\n",
            "30:\ttest: 0.8707422\tbest: 0.8707422 (30)\ttotal: 8.66s\tremaining: 4m 30s\n",
            "31:\ttest: 0.8707702\tbest: 0.8707702 (31)\ttotal: 8.94s\tremaining: 4m 30s\n",
            "32:\ttest: 0.8708423\tbest: 0.8708423 (32)\ttotal: 9.24s\tremaining: 4m 30s\n",
            "33:\ttest: 0.8708658\tbest: 0.8708658 (33)\ttotal: 9.55s\tremaining: 4m 31s\n",
            "34:\ttest: 0.8709004\tbest: 0.8709004 (34)\ttotal: 9.9s\tremaining: 4m 33s\n",
            "35:\ttest: 0.8709846\tbest: 0.8709846 (35)\ttotal: 10.2s\tremaining: 4m 33s\n",
            "36:\ttest: 0.8710356\tbest: 0.8710356 (36)\ttotal: 10.5s\tremaining: 4m 32s\n",
            "37:\ttest: 0.8710713\tbest: 0.8710713 (37)\ttotal: 10.8s\tremaining: 4m 32s\n",
            "38:\ttest: 0.8710963\tbest: 0.8710963 (38)\ttotal: 11.1s\tremaining: 4m 34s\n",
            "39:\ttest: 0.8711618\tbest: 0.8711618 (39)\ttotal: 11.4s\tremaining: 4m 34s\n",
            "40:\ttest: 0.8711591\tbest: 0.8711618 (39)\ttotal: 11.6s\tremaining: 4m 31s\n",
            "41:\ttest: 0.8711726\tbest: 0.8711726 (41)\ttotal: 12s\tremaining: 4m 32s\n",
            "42:\ttest: 0.8711440\tbest: 0.8711726 (41)\ttotal: 12.3s\tremaining: 4m 32s\n",
            "43:\ttest: 0.8711916\tbest: 0.8711916 (43)\ttotal: 12.5s\tremaining: 4m 31s\n",
            "44:\ttest: 0.8712430\tbest: 0.8712430 (44)\ttotal: 12.8s\tremaining: 4m 30s\n",
            "45:\ttest: 0.8712984\tbest: 0.8712984 (45)\ttotal: 13.1s\tremaining: 4m 31s\n",
            "46:\ttest: 0.8713430\tbest: 0.8713430 (46)\ttotal: 13.4s\tremaining: 4m 30s\n",
            "47:\ttest: 0.8713369\tbest: 0.8713430 (46)\ttotal: 13.7s\tremaining: 4m 30s\n",
            "48:\ttest: 0.8713369\tbest: 0.8713430 (46)\ttotal: 13.7s\tremaining: 4m 26s\n",
            "49:\ttest: 0.8713875\tbest: 0.8713875 (49)\ttotal: 14s\tremaining: 4m 26s\n",
            "50:\ttest: 0.8714652\tbest: 0.8714652 (50)\ttotal: 14.4s\tremaining: 4m 27s\n",
            "51:\ttest: 0.8715128\tbest: 0.8715128 (51)\ttotal: 14.7s\tremaining: 4m 27s\n",
            "52:\ttest: 0.8715415\tbest: 0.8715415 (52)\ttotal: 15s\tremaining: 4m 28s\n",
            "53:\ttest: 0.8716833\tbest: 0.8716833 (53)\ttotal: 15.3s\tremaining: 4m 27s\n",
            "54:\ttest: 0.8717095\tbest: 0.8717095 (54)\ttotal: 15.6s\tremaining: 4m 27s\n",
            "55:\ttest: 0.8717290\tbest: 0.8717290 (55)\ttotal: 15.8s\tremaining: 4m 26s\n",
            "56:\ttest: 0.8717401\tbest: 0.8717401 (56)\ttotal: 16.2s\tremaining: 4m 28s\n",
            "57:\ttest: 0.8717681\tbest: 0.8717681 (57)\ttotal: 16.5s\tremaining: 4m 27s\n",
            "58:\ttest: 0.8718029\tbest: 0.8718029 (58)\ttotal: 16.8s\tremaining: 4m 28s\n",
            "59:\ttest: 0.8718139\tbest: 0.8718139 (59)\ttotal: 17.1s\tremaining: 4m 27s\n",
            "60:\ttest: 0.8718211\tbest: 0.8718211 (60)\ttotal: 17.3s\tremaining: 4m 26s\n",
            "61:\ttest: 0.8718375\tbest: 0.8718375 (61)\ttotal: 17.7s\tremaining: 4m 27s\n",
            "62:\ttest: 0.8718212\tbest: 0.8718375 (61)\ttotal: 18s\tremaining: 4m 27s\n",
            "63:\ttest: 0.8718163\tbest: 0.8718375 (61)\ttotal: 18.3s\tremaining: 4m 27s\n",
            "64:\ttest: 0.8718309\tbest: 0.8718375 (61)\ttotal: 18.6s\tremaining: 4m 27s\n",
            "65:\ttest: 0.8718263\tbest: 0.8718375 (61)\ttotal: 18.8s\tremaining: 4m 26s\n",
            "66:\ttest: 0.8718010\tbest: 0.8718375 (61)\ttotal: 19.1s\tremaining: 4m 26s\n",
            "67:\ttest: 0.8718035\tbest: 0.8718375 (61)\ttotal: 19.4s\tremaining: 4m 25s\n",
            "68:\ttest: 0.8718031\tbest: 0.8718375 (61)\ttotal: 19.7s\tremaining: 4m 25s\n",
            "69:\ttest: 0.8717577\tbest: 0.8718375 (61)\ttotal: 20s\tremaining: 4m 25s\n",
            "70:\ttest: 0.8717783\tbest: 0.8718375 (61)\ttotal: 20.3s\tremaining: 4m 26s\n",
            "71:\ttest: 0.8718425\tbest: 0.8718425 (71)\ttotal: 20.6s\tremaining: 4m 25s\n",
            "72:\ttest: 0.8718584\tbest: 0.8718584 (72)\ttotal: 21s\tremaining: 4m 26s\n",
            "73:\ttest: 0.8718729\tbest: 0.8718729 (73)\ttotal: 21.3s\tremaining: 4m 26s\n",
            "74:\ttest: 0.8718952\tbest: 0.8718952 (74)\ttotal: 21.6s\tremaining: 4m 27s\n",
            "75:\ttest: 0.8719395\tbest: 0.8719395 (75)\ttotal: 21.9s\tremaining: 4m 26s\n",
            "76:\ttest: 0.8719859\tbest: 0.8719859 (76)\ttotal: 22.2s\tremaining: 4m 26s\n",
            "77:\ttest: 0.8719791\tbest: 0.8719859 (76)\ttotal: 22.3s\tremaining: 4m 24s\n",
            "78:\ttest: 0.8720067\tbest: 0.8720067 (78)\ttotal: 22.6s\tremaining: 4m 23s\n",
            "79:\ttest: 0.8719430\tbest: 0.8720067 (78)\ttotal: 22.9s\tremaining: 4m 23s\n",
            "80:\ttest: 0.8719511\tbest: 0.8720067 (78)\ttotal: 23.2s\tremaining: 4m 23s\n",
            "81:\ttest: 0.8719267\tbest: 0.8720067 (78)\ttotal: 23.5s\tremaining: 4m 22s\n",
            "82:\ttest: 0.8719612\tbest: 0.8720067 (78)\ttotal: 23.8s\tremaining: 4m 22s\n",
            "83:\ttest: 0.8719703\tbest: 0.8720067 (78)\ttotal: 24.1s\tremaining: 4m 22s\n",
            "84:\ttest: 0.8719499\tbest: 0.8720067 (78)\ttotal: 24.4s\tremaining: 4m 22s\n",
            "85:\ttest: 0.8719499\tbest: 0.8720067 (78)\ttotal: 24.5s\tremaining: 4m 20s\n",
            "86:\ttest: 0.8719383\tbest: 0.8720067 (78)\ttotal: 24.8s\tremaining: 4m 20s\n",
            "87:\ttest: 0.8719511\tbest: 0.8720067 (78)\ttotal: 25.1s\tremaining: 4m 19s\n",
            "88:\ttest: 0.8719558\tbest: 0.8720067 (78)\ttotal: 25.4s\tremaining: 4m 20s\n",
            "89:\ttest: 0.8719894\tbest: 0.8720067 (78)\ttotal: 25.7s\tremaining: 4m 20s\n",
            "90:\ttest: 0.8719734\tbest: 0.8720067 (78)\ttotal: 26.1s\tremaining: 4m 20s\n",
            "91:\ttest: 0.8720106\tbest: 0.8720106 (91)\ttotal: 26.4s\tremaining: 4m 20s\n",
            "92:\ttest: 0.8720058\tbest: 0.8720106 (91)\ttotal: 26.8s\tremaining: 4m 21s\n",
            "93:\ttest: 0.8719853\tbest: 0.8720106 (91)\ttotal: 27.1s\tremaining: 4m 21s\n",
            "94:\ttest: 0.8719960\tbest: 0.8720106 (91)\ttotal: 27.4s\tremaining: 4m 20s\n",
            "95:\ttest: 0.8720003\tbest: 0.8720106 (91)\ttotal: 27.6s\tremaining: 4m 20s\n",
            "96:\ttest: 0.8720057\tbest: 0.8720106 (91)\ttotal: 28s\tremaining: 4m 20s\n",
            "97:\ttest: 0.8720177\tbest: 0.8720177 (97)\ttotal: 28.3s\tremaining: 4m 20s\n",
            "98:\ttest: 0.8720531\tbest: 0.8720531 (98)\ttotal: 28.6s\tremaining: 4m 20s\n",
            "99:\ttest: 0.8720549\tbest: 0.8720549 (99)\ttotal: 28.9s\tremaining: 4m 20s\n",
            "100:\ttest: 0.8720727\tbest: 0.8720727 (100)\ttotal: 29.3s\tremaining: 4m 20s\n",
            "101:\ttest: 0.8720746\tbest: 0.8720746 (101)\ttotal: 29.6s\tremaining: 4m 20s\n",
            "102:\ttest: 0.8720888\tbest: 0.8720888 (102)\ttotal: 29.8s\tremaining: 4m 19s\n",
            "103:\ttest: 0.8720840\tbest: 0.8720888 (102)\ttotal: 30.2s\tremaining: 4m 19s\n",
            "104:\ttest: 0.8721055\tbest: 0.8721055 (104)\ttotal: 30.5s\tremaining: 4m 19s\n",
            "105:\ttest: 0.8720655\tbest: 0.8721055 (104)\ttotal: 30.8s\tremaining: 4m 19s\n",
            "106:\ttest: 0.8720703\tbest: 0.8721055 (104)\ttotal: 31s\tremaining: 4m 18s\n",
            "107:\ttest: 0.8720967\tbest: 0.8721055 (104)\ttotal: 31.3s\tremaining: 4m 18s\n",
            "108:\ttest: 0.8720932\tbest: 0.8721055 (104)\ttotal: 31.7s\tremaining: 4m 18s\n",
            "109:\ttest: 0.8720827\tbest: 0.8721055 (104)\ttotal: 32s\tremaining: 4m 18s\n",
            "110:\ttest: 0.8720883\tbest: 0.8721055 (104)\ttotal: 32.3s\tremaining: 4m 18s\n",
            "111:\ttest: 0.8721423\tbest: 0.8721423 (111)\ttotal: 32.6s\tremaining: 4m 18s\n",
            "112:\ttest: 0.8721195\tbest: 0.8721423 (111)\ttotal: 32.9s\tremaining: 4m 18s\n",
            "113:\ttest: 0.8721262\tbest: 0.8721423 (111)\ttotal: 33.2s\tremaining: 4m 17s\n",
            "114:\ttest: 0.8721630\tbest: 0.8721630 (114)\ttotal: 33.5s\tremaining: 4m 17s\n",
            "115:\ttest: 0.8722569\tbest: 0.8722569 (115)\ttotal: 33.8s\tremaining: 4m 17s\n",
            "116:\ttest: 0.8722542\tbest: 0.8722569 (115)\ttotal: 34.1s\tremaining: 4m 17s\n",
            "117:\ttest: 0.8722841\tbest: 0.8722841 (117)\ttotal: 34.4s\tremaining: 4m 17s\n",
            "118:\ttest: 0.8723447\tbest: 0.8723447 (118)\ttotal: 34.8s\tremaining: 4m 17s\n",
            "119:\ttest: 0.8723167\tbest: 0.8723447 (118)\ttotal: 35.1s\tremaining: 4m 17s\n",
            "120:\ttest: 0.8723207\tbest: 0.8723447 (118)\ttotal: 35.4s\tremaining: 4m 17s\n",
            "121:\ttest: 0.8723622\tbest: 0.8723622 (121)\ttotal: 35.7s\tremaining: 4m 17s\n",
            "122:\ttest: 0.8723454\tbest: 0.8723622 (121)\ttotal: 36.1s\tremaining: 4m 17s\n",
            "123:\ttest: 0.8723472\tbest: 0.8723622 (121)\ttotal: 36.4s\tremaining: 4m 17s\n",
            "124:\ttest: 0.8723413\tbest: 0.8723622 (121)\ttotal: 36.8s\tremaining: 4m 17s\n",
            "125:\ttest: 0.8723795\tbest: 0.8723795 (125)\ttotal: 37.1s\tremaining: 4m 17s\n",
            "126:\ttest: 0.8723818\tbest: 0.8723818 (126)\ttotal: 37.4s\tremaining: 4m 17s\n",
            "127:\ttest: 0.8723649\tbest: 0.8723818 (126)\ttotal: 37.7s\tremaining: 4m 16s\n",
            "128:\ttest: 0.8723803\tbest: 0.8723818 (126)\ttotal: 38s\tremaining: 4m 16s\n",
            "129:\ttest: 0.8723907\tbest: 0.8723907 (129)\ttotal: 38.3s\tremaining: 4m 16s\n",
            "130:\ttest: 0.8724120\tbest: 0.8724120 (130)\ttotal: 38.6s\tremaining: 4m 16s\n",
            "131:\ttest: 0.8724501\tbest: 0.8724501 (131)\ttotal: 39s\tremaining: 4m 16s\n",
            "132:\ttest: 0.8724648\tbest: 0.8724648 (132)\ttotal: 39.3s\tremaining: 4m 16s\n",
            "133:\ttest: 0.8724951\tbest: 0.8724951 (133)\ttotal: 39.6s\tremaining: 4m 16s\n",
            "134:\ttest: 0.8724917\tbest: 0.8724951 (133)\ttotal: 40s\tremaining: 4m 16s\n",
            "135:\ttest: 0.8725180\tbest: 0.8725180 (135)\ttotal: 40.3s\tremaining: 4m 16s\n",
            "136:\ttest: 0.8725154\tbest: 0.8725180 (135)\ttotal: 40.6s\tremaining: 4m 16s\n",
            "137:\ttest: 0.8725352\tbest: 0.8725352 (137)\ttotal: 41s\tremaining: 4m 16s\n",
            "138:\ttest: 0.8725512\tbest: 0.8725512 (138)\ttotal: 41.4s\tremaining: 4m 16s\n",
            "139:\ttest: 0.8725158\tbest: 0.8725512 (138)\ttotal: 41.7s\tremaining: 4m 16s\n",
            "140:\ttest: 0.8725753\tbest: 0.8725753 (140)\ttotal: 42s\tremaining: 4m 15s\n",
            "141:\ttest: 0.8725705\tbest: 0.8725753 (140)\ttotal: 42.3s\tremaining: 4m 15s\n",
            "142:\ttest: 0.8726018\tbest: 0.8726018 (142)\ttotal: 42.6s\tremaining: 4m 15s\n",
            "143:\ttest: 0.8725802\tbest: 0.8726018 (142)\ttotal: 42.9s\tremaining: 4m 15s\n",
            "144:\ttest: 0.8725779\tbest: 0.8726018 (142)\ttotal: 43.3s\tremaining: 4m 15s\n",
            "145:\ttest: 0.8725725\tbest: 0.8726018 (142)\ttotal: 43.6s\tremaining: 4m 15s\n",
            "146:\ttest: 0.8725844\tbest: 0.8726018 (142)\ttotal: 44s\tremaining: 4m 15s\n",
            "147:\ttest: 0.8725649\tbest: 0.8726018 (142)\ttotal: 44.3s\tremaining: 4m 14s\n",
            "148:\ttest: 0.8725640\tbest: 0.8726018 (142)\ttotal: 44.5s\tremaining: 4m 14s\n",
            "149:\ttest: 0.8726033\tbest: 0.8726033 (149)\ttotal: 44.9s\tremaining: 4m 14s\n",
            "150:\ttest: 0.8726042\tbest: 0.8726042 (150)\ttotal: 45.2s\tremaining: 4m 14s\n",
            "151:\ttest: 0.8726226\tbest: 0.8726226 (151)\ttotal: 45.5s\tremaining: 4m 14s\n",
            "152:\ttest: 0.8726313\tbest: 0.8726313 (152)\ttotal: 45.8s\tremaining: 4m 13s\n",
            "153:\ttest: 0.8726512\tbest: 0.8726512 (153)\ttotal: 46.1s\tremaining: 4m 13s\n",
            "154:\ttest: 0.8726807\tbest: 0.8726807 (154)\ttotal: 46.5s\tremaining: 4m 13s\n",
            "155:\ttest: 0.8726848\tbest: 0.8726848 (155)\ttotal: 46.9s\tremaining: 4m 13s\n",
            "156:\ttest: 0.8726857\tbest: 0.8726857 (156)\ttotal: 47.1s\tremaining: 4m 13s\n",
            "157:\ttest: 0.8727053\tbest: 0.8727053 (157)\ttotal: 47.5s\tremaining: 4m 12s\n",
            "158:\ttest: 0.8727244\tbest: 0.8727244 (158)\ttotal: 47.8s\tremaining: 4m 12s\n",
            "159:\ttest: 0.8727259\tbest: 0.8727259 (159)\ttotal: 48s\tremaining: 4m 12s\n",
            "160:\ttest: 0.8727302\tbest: 0.8727302 (160)\ttotal: 48.3s\tremaining: 4m 11s\n",
            "161:\ttest: 0.8727481\tbest: 0.8727481 (161)\ttotal: 48.6s\tremaining: 4m 11s\n",
            "162:\ttest: 0.8727623\tbest: 0.8727623 (162)\ttotal: 48.9s\tremaining: 4m 11s\n",
            "163:\ttest: 0.8727622\tbest: 0.8727623 (162)\ttotal: 49.3s\tremaining: 4m 11s\n",
            "164:\ttest: 0.8727858\tbest: 0.8727858 (164)\ttotal: 49.6s\tremaining: 4m 10s\n",
            "165:\ttest: 0.8727855\tbest: 0.8727858 (164)\ttotal: 49.9s\tremaining: 4m 10s\n",
            "166:\ttest: 0.8727909\tbest: 0.8727909 (166)\ttotal: 50.2s\tremaining: 4m 10s\n",
            "167:\ttest: 0.8727655\tbest: 0.8727909 (166)\ttotal: 50.5s\tremaining: 4m 10s\n",
            "168:\ttest: 0.8727593\tbest: 0.8727909 (166)\ttotal: 50.8s\tremaining: 4m 9s\n",
            "169:\ttest: 0.8727518\tbest: 0.8727909 (166)\ttotal: 51.1s\tremaining: 4m 9s\n",
            "170:\ttest: 0.8727715\tbest: 0.8727909 (166)\ttotal: 51.5s\tremaining: 4m 9s\n",
            "171:\ttest: 0.8728265\tbest: 0.8728265 (171)\ttotal: 51.8s\tremaining: 4m 9s\n",
            "172:\ttest: 0.8728243\tbest: 0.8728265 (171)\ttotal: 52.1s\tremaining: 4m 9s\n",
            "173:\ttest: 0.8728255\tbest: 0.8728265 (171)\ttotal: 52.4s\tremaining: 4m 8s\n",
            "174:\ttest: 0.8728321\tbest: 0.8728321 (174)\ttotal: 52.7s\tremaining: 4m 8s\n",
            "175:\ttest: 0.8728405\tbest: 0.8728405 (175)\ttotal: 53s\tremaining: 4m 8s\n",
            "176:\ttest: 0.8728250\tbest: 0.8728405 (175)\ttotal: 53.4s\tremaining: 4m 8s\n",
            "177:\ttest: 0.8728322\tbest: 0.8728405 (175)\ttotal: 53.7s\tremaining: 4m 8s\n",
            "178:\ttest: 0.8728407\tbest: 0.8728407 (178)\ttotal: 54s\tremaining: 4m 7s\n",
            "179:\ttest: 0.8727906\tbest: 0.8728407 (178)\ttotal: 54.3s\tremaining: 4m 7s\n",
            "180:\ttest: 0.8727971\tbest: 0.8728407 (178)\ttotal: 54.6s\tremaining: 4m 7s\n",
            "181:\ttest: 0.8727929\tbest: 0.8728407 (178)\ttotal: 55s\tremaining: 4m 7s\n",
            "182:\ttest: 0.8728194\tbest: 0.8728407 (178)\ttotal: 55.3s\tremaining: 4m 6s\n",
            "183:\ttest: 0.8728367\tbest: 0.8728407 (178)\ttotal: 55.6s\tremaining: 4m 6s\n",
            "184:\ttest: 0.8728320\tbest: 0.8728407 (178)\ttotal: 55.9s\tremaining: 4m 6s\n",
            "185:\ttest: 0.8728378\tbest: 0.8728407 (178)\ttotal: 56.2s\tremaining: 4m 6s\n",
            "186:\ttest: 0.8728352\tbest: 0.8728407 (178)\ttotal: 56.6s\tremaining: 4m 5s\n",
            "187:\ttest: 0.8728280\tbest: 0.8728407 (178)\ttotal: 56.9s\tremaining: 4m 5s\n",
            "188:\ttest: 0.8728538\tbest: 0.8728538 (188)\ttotal: 57.2s\tremaining: 4m 5s\n",
            "189:\ttest: 0.8728653\tbest: 0.8728653 (189)\ttotal: 57.5s\tremaining: 4m 5s\n",
            "190:\ttest: 0.8728540\tbest: 0.8728653 (189)\ttotal: 57.8s\tremaining: 4m 5s\n",
            "191:\ttest: 0.8728205\tbest: 0.8728653 (189)\ttotal: 58.2s\tremaining: 4m 4s\n",
            "192:\ttest: 0.8728255\tbest: 0.8728653 (189)\ttotal: 58.5s\tremaining: 4m 4s\n",
            "193:\ttest: 0.8728310\tbest: 0.8728653 (189)\ttotal: 58.8s\tremaining: 4m 4s\n",
            "194:\ttest: 0.8728422\tbest: 0.8728653 (189)\ttotal: 59.1s\tremaining: 4m 4s\n",
            "195:\ttest: 0.8728649\tbest: 0.8728653 (189)\ttotal: 59.4s\tremaining: 4m 3s\n",
            "196:\ttest: 0.8728452\tbest: 0.8728653 (189)\ttotal: 59.7s\tremaining: 4m 3s\n",
            "197:\ttest: 0.8728311\tbest: 0.8728653 (189)\ttotal: 1m\tremaining: 4m 3s\n",
            "198:\ttest: 0.8728358\tbest: 0.8728653 (189)\ttotal: 1m\tremaining: 4m 3s\n",
            "199:\ttest: 0.8728443\tbest: 0.8728653 (189)\ttotal: 1m\tremaining: 4m 2s\n",
            "200:\ttest: 0.8728652\tbest: 0.8728653 (189)\ttotal: 1m\tremaining: 4m 2s\n",
            "201:\ttest: 0.8728675\tbest: 0.8728675 (201)\ttotal: 1m 1s\tremaining: 4m 2s\n",
            "202:\ttest: 0.8728799\tbest: 0.8728799 (202)\ttotal: 1m 1s\tremaining: 4m 2s\n",
            "203:\ttest: 0.8728802\tbest: 0.8728802 (203)\ttotal: 1m 1s\tremaining: 4m 1s\n",
            "204:\ttest: 0.8728852\tbest: 0.8728852 (204)\ttotal: 1m 2s\tremaining: 4m 1s\n",
            "205:\ttest: 0.8728841\tbest: 0.8728852 (204)\ttotal: 1m 2s\tremaining: 4m 1s\n",
            "206:\ttest: 0.8728677\tbest: 0.8728852 (204)\ttotal: 1m 2s\tremaining: 4m 1s\n",
            "207:\ttest: 0.8728727\tbest: 0.8728852 (204)\ttotal: 1m 3s\tremaining: 4m\n",
            "208:\ttest: 0.8728984\tbest: 0.8728984 (208)\ttotal: 1m 3s\tremaining: 4m\n",
            "209:\ttest: 0.8728809\tbest: 0.8728984 (208)\ttotal: 1m 3s\tremaining: 4m\n",
            "210:\ttest: 0.8728726\tbest: 0.8728984 (208)\ttotal: 1m 4s\tremaining: 4m\n",
            "211:\ttest: 0.8728602\tbest: 0.8728984 (208)\ttotal: 1m 4s\tremaining: 3m 59s\n",
            "212:\ttest: 0.8728549\tbest: 0.8728984 (208)\ttotal: 1m 4s\tremaining: 3m 59s\n",
            "213:\ttest: 0.8728825\tbest: 0.8728984 (208)\ttotal: 1m 5s\tremaining: 3m 58s\n",
            "214:\ttest: 0.8728559\tbest: 0.8728984 (208)\ttotal: 1m 5s\tremaining: 3m 58s\n",
            "215:\ttest: 0.8728729\tbest: 0.8728984 (208)\ttotal: 1m 5s\tremaining: 3m 58s\n",
            "216:\ttest: 0.8728598\tbest: 0.8728984 (208)\ttotal: 1m 5s\tremaining: 3m 58s\n",
            "217:\ttest: 0.8728593\tbest: 0.8728984 (208)\ttotal: 1m 6s\tremaining: 3m 57s\n",
            "218:\ttest: 0.8728128\tbest: 0.8728984 (208)\ttotal: 1m 6s\tremaining: 3m 57s\n",
            "219:\ttest: 0.8728017\tbest: 0.8728984 (208)\ttotal: 1m 6s\tremaining: 3m 57s\n",
            "220:\ttest: 0.8727982\tbest: 0.8728984 (208)\ttotal: 1m 7s\tremaining: 3m 57s\n",
            "221:\ttest: 0.8728054\tbest: 0.8728984 (208)\ttotal: 1m 7s\tremaining: 3m 56s\n",
            "222:\ttest: 0.8728339\tbest: 0.8728984 (208)\ttotal: 1m 7s\tremaining: 3m 56s\n",
            "223:\ttest: 0.8728227\tbest: 0.8728984 (208)\ttotal: 1m 8s\tremaining: 3m 56s\n",
            "224:\ttest: 0.8728240\tbest: 0.8728984 (208)\ttotal: 1m 8s\tremaining: 3m 56s\n",
            "225:\ttest: 0.8728287\tbest: 0.8728984 (208)\ttotal: 1m 8s\tremaining: 3m 56s\n",
            "226:\ttest: 0.8728261\tbest: 0.8728984 (208)\ttotal: 1m 9s\tremaining: 3m 56s\n",
            "227:\ttest: 0.8728246\tbest: 0.8728984 (208)\ttotal: 1m 9s\tremaining: 3m 55s\n",
            "228:\ttest: 0.8728349\tbest: 0.8728984 (208)\ttotal: 1m 9s\tremaining: 3m 55s\n",
            "Stopped by overfitting detector  (20 iterations wait)\n",
            "\n",
            "bestTest = 0.8728984142\n",
            "bestIteration = 208\n",
            "\n",
            "Shrink model to first 209 iterations.\n",
            "model saved\n",
            "Learning rate set to 0.116792\n",
            "0:\ttest: 0.8638822\tbest: 0.8638822 (0)\ttotal: 333ms\tremaining: 5m 32s\n",
            "1:\ttest: 0.8643246\tbest: 0.8643246 (1)\ttotal: 624ms\tremaining: 5m 11s\n",
            "2:\ttest: 0.8661505\tbest: 0.8661505 (2)\ttotal: 913ms\tremaining: 5m 3s\n",
            "3:\ttest: 0.8662849\tbest: 0.8662849 (3)\ttotal: 1.17s\tremaining: 4m 51s\n",
            "4:\ttest: 0.8671507\tbest: 0.8671507 (4)\ttotal: 1.44s\tremaining: 4m 46s\n",
            "5:\ttest: 0.8678477\tbest: 0.8678477 (5)\ttotal: 1.7s\tremaining: 4m 41s\n",
            "6:\ttest: 0.8683110\tbest: 0.8683110 (6)\ttotal: 1.96s\tremaining: 4m 38s\n",
            "7:\ttest: 0.8682078\tbest: 0.8683110 (6)\ttotal: 2.25s\tremaining: 4m 38s\n",
            "8:\ttest: 0.8686894\tbest: 0.8686894 (8)\ttotal: 2.51s\tremaining: 4m 36s\n",
            "9:\ttest: 0.8687508\tbest: 0.8687508 (9)\ttotal: 2.75s\tremaining: 4m 32s\n",
            "10:\ttest: 0.8691923\tbest: 0.8691923 (10)\ttotal: 3.03s\tremaining: 4m 32s\n",
            "11:\ttest: 0.8696406\tbest: 0.8696406 (11)\ttotal: 3.24s\tremaining: 4m 26s\n",
            "12:\ttest: 0.8695026\tbest: 0.8696406 (11)\ttotal: 3.37s\tremaining: 4m 15s\n",
            "13:\ttest: 0.8696127\tbest: 0.8696406 (11)\ttotal: 3.68s\tremaining: 4m 19s\n",
            "14:\ttest: 0.8696756\tbest: 0.8696756 (14)\ttotal: 4s\tremaining: 4m 23s\n",
            "15:\ttest: 0.8700862\tbest: 0.8700862 (15)\ttotal: 4.32s\tremaining: 4m 25s\n",
            "16:\ttest: 0.8703975\tbest: 0.8703975 (16)\ttotal: 4.59s\tremaining: 4m 25s\n",
            "17:\ttest: 0.8704088\tbest: 0.8704088 (17)\ttotal: 4.93s\tremaining: 4m 29s\n",
            "18:\ttest: 0.8705236\tbest: 0.8705236 (18)\ttotal: 5.21s\tremaining: 4m 29s\n",
            "19:\ttest: 0.8706348\tbest: 0.8706348 (19)\ttotal: 5.51s\tremaining: 4m 30s\n",
            "20:\ttest: 0.8711484\tbest: 0.8711484 (20)\ttotal: 5.81s\tremaining: 4m 30s\n",
            "21:\ttest: 0.8713926\tbest: 0.8713926 (21)\ttotal: 6.13s\tremaining: 4m 32s\n",
            "22:\ttest: 0.8714865\tbest: 0.8714865 (22)\ttotal: 6.38s\tremaining: 4m 31s\n",
            "23:\ttest: 0.8715495\tbest: 0.8715495 (23)\ttotal: 6.6s\tremaining: 4m 28s\n",
            "24:\ttest: 0.8715332\tbest: 0.8715495 (23)\ttotal: 6.86s\tremaining: 4m 27s\n",
            "25:\ttest: 0.8715473\tbest: 0.8715495 (23)\ttotal: 7.21s\tremaining: 4m 30s\n",
            "26:\ttest: 0.8716620\tbest: 0.8716620 (26)\ttotal: 7.58s\tremaining: 4m 32s\n",
            "27:\ttest: 0.8717530\tbest: 0.8717530 (27)\ttotal: 7.95s\tremaining: 4m 36s\n",
            "28:\ttest: 0.8717387\tbest: 0.8717530 (27)\ttotal: 8.31s\tremaining: 4m 38s\n",
            "29:\ttest: 0.8718345\tbest: 0.8718345 (29)\ttotal: 8.64s\tremaining: 4m 39s\n",
            "30:\ttest: 0.8718833\tbest: 0.8718833 (30)\ttotal: 8.94s\tremaining: 4m 39s\n",
            "31:\ttest: 0.8719160\tbest: 0.8719160 (31)\ttotal: 9.25s\tremaining: 4m 39s\n",
            "32:\ttest: 0.8720386\tbest: 0.8720386 (32)\ttotal: 9.54s\tremaining: 4m 39s\n",
            "33:\ttest: 0.8720671\tbest: 0.8720671 (33)\ttotal: 9.8s\tremaining: 4m 38s\n",
            "34:\ttest: 0.8720069\tbest: 0.8720671 (33)\ttotal: 10.1s\tremaining: 4m 39s\n",
            "35:\ttest: 0.8720618\tbest: 0.8720671 (33)\ttotal: 10.4s\tremaining: 4m 38s\n",
            "36:\ttest: 0.8721842\tbest: 0.8721842 (36)\ttotal: 10.7s\tremaining: 4m 39s\n",
            "37:\ttest: 0.8722233\tbest: 0.8722233 (37)\ttotal: 11s\tremaining: 4m 38s\n",
            "38:\ttest: 0.8722887\tbest: 0.8722887 (38)\ttotal: 11.3s\tremaining: 4m 38s\n",
            "39:\ttest: 0.8723138\tbest: 0.8723138 (39)\ttotal: 11.6s\tremaining: 4m 38s\n",
            "40:\ttest: 0.8723368\tbest: 0.8723368 (40)\ttotal: 11.9s\tremaining: 4m 38s\n",
            "41:\ttest: 0.8723864\tbest: 0.8723864 (41)\ttotal: 12.2s\tremaining: 4m 38s\n",
            "42:\ttest: 0.8724205\tbest: 0.8724205 (42)\ttotal: 12.6s\tremaining: 4m 39s\n",
            "43:\ttest: 0.8724801\tbest: 0.8724801 (43)\ttotal: 12.8s\tremaining: 4m 38s\n",
            "44:\ttest: 0.8724670\tbest: 0.8724801 (43)\ttotal: 13.2s\tremaining: 4m 40s\n",
            "45:\ttest: 0.8725322\tbest: 0.8725322 (45)\ttotal: 13.5s\tremaining: 4m 40s\n",
            "46:\ttest: 0.8726360\tbest: 0.8726360 (46)\ttotal: 13.9s\tremaining: 4m 41s\n",
            "47:\ttest: 0.8726922\tbest: 0.8726922 (47)\ttotal: 14.2s\tremaining: 4m 42s\n",
            "48:\ttest: 0.8727446\tbest: 0.8727446 (48)\ttotal: 14.6s\tremaining: 4m 42s\n",
            "49:\ttest: 0.8727725\tbest: 0.8727725 (49)\ttotal: 14.9s\tremaining: 4m 43s\n",
            "50:\ttest: 0.8727988\tbest: 0.8727988 (50)\ttotal: 15.2s\tremaining: 4m 43s\n",
            "51:\ttest: 0.8728170\tbest: 0.8728170 (51)\ttotal: 15.5s\tremaining: 4m 43s\n",
            "52:\ttest: 0.8728762\tbest: 0.8728762 (52)\ttotal: 15.8s\tremaining: 4m 42s\n",
            "53:\ttest: 0.8729217\tbest: 0.8729217 (53)\ttotal: 16.1s\tremaining: 4m 42s\n",
            "54:\ttest: 0.8729488\tbest: 0.8729488 (54)\ttotal: 16.4s\tremaining: 4m 42s\n",
            "55:\ttest: 0.8729743\tbest: 0.8729743 (55)\ttotal: 16.7s\tremaining: 4m 42s\n",
            "56:\ttest: 0.8729898\tbest: 0.8729898 (56)\ttotal: 17.1s\tremaining: 4m 42s\n",
            "57:\ttest: 0.8730061\tbest: 0.8730061 (57)\ttotal: 17.4s\tremaining: 4m 42s\n",
            "58:\ttest: 0.8730161\tbest: 0.8730161 (58)\ttotal: 17.5s\tremaining: 4m 39s\n",
            "59:\ttest: 0.8730419\tbest: 0.8730419 (59)\ttotal: 17.8s\tremaining: 4m 38s\n",
            "60:\ttest: 0.8730910\tbest: 0.8730910 (60)\ttotal: 18.1s\tremaining: 4m 38s\n",
            "61:\ttest: 0.8731163\tbest: 0.8731163 (61)\ttotal: 18.3s\tremaining: 4m 37s\n",
            "62:\ttest: 0.8731163\tbest: 0.8731163 (61)\ttotal: 18.4s\tremaining: 4m 34s\n",
            "63:\ttest: 0.8731275\tbest: 0.8731275 (63)\ttotal: 18.7s\tremaining: 4m 32s\n",
            "64:\ttest: 0.8731606\tbest: 0.8731606 (64)\ttotal: 18.9s\tremaining: 4m 32s\n",
            "65:\ttest: 0.8731720\tbest: 0.8731720 (65)\ttotal: 19.3s\tremaining: 4m 32s\n",
            "66:\ttest: 0.8731720\tbest: 0.8731720 (65)\ttotal: 19.3s\tremaining: 4m 29s\n",
            "67:\ttest: 0.8731884\tbest: 0.8731884 (67)\ttotal: 19.6s\tremaining: 4m 28s\n",
            "68:\ttest: 0.8731921\tbest: 0.8731921 (68)\ttotal: 19.9s\tremaining: 4m 28s\n",
            "69:\ttest: 0.8731975\tbest: 0.8731975 (69)\ttotal: 20.1s\tremaining: 4m 27s\n",
            "70:\ttest: 0.8732301\tbest: 0.8732301 (70)\ttotal: 20.4s\tremaining: 4m 26s\n",
            "71:\ttest: 0.8732880\tbest: 0.8732880 (71)\ttotal: 20.6s\tremaining: 4m 26s\n",
            "72:\ttest: 0.8733171\tbest: 0.8733171 (72)\ttotal: 21s\tremaining: 4m 26s\n",
            "73:\ttest: 0.8733429\tbest: 0.8733429 (73)\ttotal: 21.3s\tremaining: 4m 25s\n",
            "74:\ttest: 0.8733457\tbest: 0.8733457 (74)\ttotal: 21.4s\tremaining: 4m 23s\n",
            "75:\ttest: 0.8733507\tbest: 0.8733507 (75)\ttotal: 21.6s\tremaining: 4m 23s\n",
            "76:\ttest: 0.8733840\tbest: 0.8733840 (76)\ttotal: 22s\tremaining: 4m 23s\n",
            "77:\ttest: 0.8733751\tbest: 0.8733840 (76)\ttotal: 22.3s\tremaining: 4m 23s\n",
            "78:\ttest: 0.8734022\tbest: 0.8734022 (78)\ttotal: 22.6s\tremaining: 4m 23s\n",
            "79:\ttest: 0.8734304\tbest: 0.8734304 (79)\ttotal: 22.9s\tremaining: 4m 23s\n",
            "80:\ttest: 0.8734381\tbest: 0.8734381 (80)\ttotal: 23s\tremaining: 4m 21s\n",
            "81:\ttest: 0.8734704\tbest: 0.8734704 (81)\ttotal: 23.2s\tremaining: 4m 20s\n",
            "82:\ttest: 0.8734489\tbest: 0.8734704 (81)\ttotal: 23.6s\tremaining: 4m 20s\n",
            "83:\ttest: 0.8735015\tbest: 0.8735015 (83)\ttotal: 23.8s\tremaining: 4m 19s\n",
            "84:\ttest: 0.8735340\tbest: 0.8735340 (84)\ttotal: 24.2s\tremaining: 4m 20s\n",
            "85:\ttest: 0.8735148\tbest: 0.8735340 (84)\ttotal: 24.5s\tremaining: 4m 20s\n",
            "86:\ttest: 0.8735217\tbest: 0.8735340 (84)\ttotal: 24.7s\tremaining: 4m 19s\n",
            "87:\ttest: 0.8736029\tbest: 0.8736029 (87)\ttotal: 25s\tremaining: 4m 18s\n",
            "88:\ttest: 0.8736304\tbest: 0.8736304 (88)\ttotal: 25.3s\tremaining: 4m 18s\n",
            "89:\ttest: 0.8736186\tbest: 0.8736304 (88)\ttotal: 25.6s\tremaining: 4m 19s\n",
            "90:\ttest: 0.8736283\tbest: 0.8736304 (88)\ttotal: 25.9s\tremaining: 4m 18s\n",
            "91:\ttest: 0.8736483\tbest: 0.8736483 (91)\ttotal: 26.2s\tremaining: 4m 18s\n",
            "92:\ttest: 0.8736483\tbest: 0.8736483 (92)\ttotal: 26.3s\tremaining: 4m 16s\n",
            "93:\ttest: 0.8736534\tbest: 0.8736534 (93)\ttotal: 26.6s\tremaining: 4m 16s\n",
            "94:\ttest: 0.8736558\tbest: 0.8736558 (94)\ttotal: 26.9s\tremaining: 4m 16s\n",
            "95:\ttest: 0.8736432\tbest: 0.8736558 (94)\ttotal: 27.2s\tremaining: 4m 16s\n",
            "96:\ttest: 0.8736544\tbest: 0.8736558 (94)\ttotal: 27.5s\tremaining: 4m 15s\n",
            "97:\ttest: 0.8736626\tbest: 0.8736626 (97)\ttotal: 27.7s\tremaining: 4m 14s\n",
            "98:\ttest: 0.8736890\tbest: 0.8736890 (98)\ttotal: 28s\tremaining: 4m 14s\n",
            "99:\ttest: 0.8737564\tbest: 0.8737564 (99)\ttotal: 28.3s\tremaining: 4m 14s\n",
            "100:\ttest: 0.8737561\tbest: 0.8737564 (99)\ttotal: 28.4s\tremaining: 4m 12s\n",
            "101:\ttest: 0.8738502\tbest: 0.8738502 (101)\ttotal: 28.7s\tremaining: 4m 12s\n",
            "102:\ttest: 0.8738981\tbest: 0.8738981 (102)\ttotal: 29s\tremaining: 4m 12s\n",
            "103:\ttest: 0.8739647\tbest: 0.8739647 (103)\ttotal: 29.3s\tremaining: 4m 12s\n",
            "104:\ttest: 0.8740214\tbest: 0.8740214 (104)\ttotal: 29.6s\tremaining: 4m 12s\n",
            "105:\ttest: 0.8739919\tbest: 0.8740214 (104)\ttotal: 29.9s\tremaining: 4m 12s\n",
            "106:\ttest: 0.8740484\tbest: 0.8740484 (106)\ttotal: 30.3s\tremaining: 4m 12s\n",
            "107:\ttest: 0.8740570\tbest: 0.8740570 (107)\ttotal: 30.6s\tremaining: 4m 12s\n",
            "108:\ttest: 0.8740811\tbest: 0.8740811 (108)\ttotal: 30.8s\tremaining: 4m 12s\n",
            "109:\ttest: 0.8740737\tbest: 0.8740811 (108)\ttotal: 31.2s\tremaining: 4m 12s\n",
            "110:\ttest: 0.8741152\tbest: 0.8741152 (110)\ttotal: 31.5s\tremaining: 4m 12s\n",
            "111:\ttest: 0.8741346\tbest: 0.8741346 (111)\ttotal: 31.8s\tremaining: 4m 12s\n",
            "112:\ttest: 0.8741579\tbest: 0.8741579 (112)\ttotal: 32.1s\tremaining: 4m 12s\n",
            "113:\ttest: 0.8741750\tbest: 0.8741750 (113)\ttotal: 32.4s\tremaining: 4m 12s\n",
            "114:\ttest: 0.8741868\tbest: 0.8741868 (114)\ttotal: 32.7s\tremaining: 4m 11s\n",
            "115:\ttest: 0.8742175\tbest: 0.8742175 (115)\ttotal: 33.1s\tremaining: 4m 11s\n",
            "116:\ttest: 0.8742498\tbest: 0.8742498 (116)\ttotal: 33.4s\tremaining: 4m 12s\n",
            "117:\ttest: 0.8742961\tbest: 0.8742961 (117)\ttotal: 33.7s\tremaining: 4m 12s\n",
            "118:\ttest: 0.8742687\tbest: 0.8742961 (117)\ttotal: 34s\tremaining: 4m 11s\n",
            "119:\ttest: 0.8742687\tbest: 0.8742961 (117)\ttotal: 34.3s\tremaining: 4m 11s\n",
            "120:\ttest: 0.8742967\tbest: 0.8742967 (120)\ttotal: 34.6s\tremaining: 4m 11s\n",
            "121:\ttest: 0.8742810\tbest: 0.8742967 (120)\ttotal: 34.9s\tremaining: 4m 11s\n",
            "122:\ttest: 0.8743110\tbest: 0.8743110 (122)\ttotal: 35.2s\tremaining: 4m 11s\n",
            "123:\ttest: 0.8743122\tbest: 0.8743122 (123)\ttotal: 35.6s\tremaining: 4m 11s\n",
            "124:\ttest: 0.8742937\tbest: 0.8743122 (123)\ttotal: 35.9s\tremaining: 4m 11s\n",
            "125:\ttest: 0.8743020\tbest: 0.8743122 (123)\ttotal: 36.2s\tremaining: 4m 11s\n",
            "126:\ttest: 0.8743069\tbest: 0.8743122 (123)\ttotal: 36.6s\tremaining: 4m 11s\n",
            "127:\ttest: 0.8743059\tbest: 0.8743122 (123)\ttotal: 36.9s\tremaining: 4m 11s\n",
            "128:\ttest: 0.8743485\tbest: 0.8743485 (128)\ttotal: 37.3s\tremaining: 4m 11s\n",
            "129:\ttest: 0.8743317\tbest: 0.8743485 (128)\ttotal: 37.6s\tremaining: 4m 11s\n",
            "130:\ttest: 0.8743321\tbest: 0.8743485 (128)\ttotal: 37.9s\tremaining: 4m 11s\n",
            "131:\ttest: 0.8743448\tbest: 0.8743485 (128)\ttotal: 38.2s\tremaining: 4m 11s\n",
            "132:\ttest: 0.8743165\tbest: 0.8743485 (128)\ttotal: 38.6s\tremaining: 4m 11s\n",
            "133:\ttest: 0.8743613\tbest: 0.8743613 (133)\ttotal: 38.9s\tremaining: 4m 11s\n",
            "134:\ttest: 0.8743448\tbest: 0.8743613 (133)\ttotal: 39.3s\tremaining: 4m 11s\n",
            "135:\ttest: 0.8743224\tbest: 0.8743613 (133)\ttotal: 39.6s\tremaining: 4m 11s\n",
            "136:\ttest: 0.8743728\tbest: 0.8743728 (136)\ttotal: 39.9s\tremaining: 4m 11s\n",
            "137:\ttest: 0.8743833\tbest: 0.8743833 (137)\ttotal: 40.3s\tremaining: 4m 11s\n",
            "138:\ttest: 0.8744311\tbest: 0.8744311 (138)\ttotal: 40.6s\tremaining: 4m 11s\n",
            "139:\ttest: 0.8744374\tbest: 0.8744374 (139)\ttotal: 40.9s\tremaining: 4m 11s\n",
            "140:\ttest: 0.8744214\tbest: 0.8744374 (139)\ttotal: 41.2s\tremaining: 4m 11s\n",
            "141:\ttest: 0.8744749\tbest: 0.8744749 (141)\ttotal: 41.6s\tremaining: 4m 11s\n",
            "142:\ttest: 0.8744843\tbest: 0.8744843 (142)\ttotal: 41.9s\tremaining: 4m 10s\n",
            "143:\ttest: 0.8744747\tbest: 0.8744843 (142)\ttotal: 42.2s\tremaining: 4m 10s\n",
            "144:\ttest: 0.8744841\tbest: 0.8744843 (142)\ttotal: 42.5s\tremaining: 4m 10s\n",
            "145:\ttest: 0.8744808\tbest: 0.8744843 (142)\ttotal: 42.9s\tremaining: 4m 10s\n",
            "146:\ttest: 0.8744692\tbest: 0.8744843 (142)\ttotal: 43.2s\tremaining: 4m 10s\n",
            "147:\ttest: 0.8745188\tbest: 0.8745188 (147)\ttotal: 43.5s\tremaining: 4m 10s\n",
            "148:\ttest: 0.8745434\tbest: 0.8745434 (148)\ttotal: 43.8s\tremaining: 4m 10s\n",
            "149:\ttest: 0.8745327\tbest: 0.8745434 (148)\ttotal: 44.1s\tremaining: 4m 10s\n",
            "150:\ttest: 0.8745374\tbest: 0.8745434 (148)\ttotal: 44.5s\tremaining: 4m 9s\n",
            "151:\ttest: 0.8745215\tbest: 0.8745434 (148)\ttotal: 44.8s\tremaining: 4m 10s\n",
            "152:\ttest: 0.8745342\tbest: 0.8745434 (148)\ttotal: 45.2s\tremaining: 4m 10s\n",
            "153:\ttest: 0.8745389\tbest: 0.8745434 (148)\ttotal: 45.6s\tremaining: 4m 10s\n",
            "154:\ttest: 0.8745411\tbest: 0.8745434 (148)\ttotal: 45.9s\tremaining: 4m 10s\n",
            "155:\ttest: 0.8745739\tbest: 0.8745739 (155)\ttotal: 46.2s\tremaining: 4m 9s\n",
            "156:\ttest: 0.8745664\tbest: 0.8745739 (155)\ttotal: 46.5s\tremaining: 4m 9s\n",
            "157:\ttest: 0.8745893\tbest: 0.8745893 (157)\ttotal: 46.9s\tremaining: 4m 9s\n",
            "158:\ttest: 0.8746149\tbest: 0.8746149 (158)\ttotal: 47.2s\tremaining: 4m 9s\n",
            "159:\ttest: 0.8746017\tbest: 0.8746149 (158)\ttotal: 47.5s\tremaining: 4m 9s\n",
            "160:\ttest: 0.8746179\tbest: 0.8746179 (160)\ttotal: 47.9s\tremaining: 4m 9s\n",
            "161:\ttest: 0.8746174\tbest: 0.8746179 (160)\ttotal: 48.2s\tremaining: 4m 9s\n",
            "162:\ttest: 0.8746306\tbest: 0.8746306 (162)\ttotal: 48.5s\tremaining: 4m 9s\n",
            "163:\ttest: 0.8746405\tbest: 0.8746405 (163)\ttotal: 48.8s\tremaining: 4m 8s\n",
            "164:\ttest: 0.8746657\tbest: 0.8746657 (164)\ttotal: 49.2s\tremaining: 4m 8s\n",
            "165:\ttest: 0.8746962\tbest: 0.8746962 (165)\ttotal: 49.5s\tremaining: 4m 8s\n",
            "166:\ttest: 0.8746986\tbest: 0.8746986 (166)\ttotal: 49.9s\tremaining: 4m 8s\n",
            "167:\ttest: 0.8746980\tbest: 0.8746986 (166)\ttotal: 50.2s\tremaining: 4m 8s\n",
            "168:\ttest: 0.8746782\tbest: 0.8746986 (166)\ttotal: 50.5s\tremaining: 4m 8s\n",
            "169:\ttest: 0.8746471\tbest: 0.8746986 (166)\ttotal: 50.8s\tremaining: 4m 8s\n",
            "170:\ttest: 0.8746571\tbest: 0.8746986 (166)\ttotal: 51.1s\tremaining: 4m 7s\n",
            "171:\ttest: 0.8746586\tbest: 0.8746986 (166)\ttotal: 51.4s\tremaining: 4m 7s\n",
            "172:\ttest: 0.8746524\tbest: 0.8746986 (166)\ttotal: 51.7s\tremaining: 4m 7s\n",
            "173:\ttest: 0.8746742\tbest: 0.8746986 (166)\ttotal: 52.1s\tremaining: 4m 7s\n",
            "174:\ttest: 0.8746905\tbest: 0.8746986 (166)\ttotal: 52.4s\tremaining: 4m 7s\n",
            "175:\ttest: 0.8746889\tbest: 0.8746986 (166)\ttotal: 52.8s\tremaining: 4m 7s\n",
            "176:\ttest: 0.8747194\tbest: 0.8747194 (176)\ttotal: 53.1s\tremaining: 4m 7s\n",
            "177:\ttest: 0.8747218\tbest: 0.8747218 (177)\ttotal: 53.5s\tremaining: 4m 6s\n",
            "178:\ttest: 0.8747261\tbest: 0.8747261 (178)\ttotal: 53.8s\tremaining: 4m 6s\n",
            "179:\ttest: 0.8747320\tbest: 0.8747320 (179)\ttotal: 54.2s\tremaining: 4m 6s\n",
            "180:\ttest: 0.8747195\tbest: 0.8747320 (179)\ttotal: 54.5s\tremaining: 4m 6s\n",
            "181:\ttest: 0.8747367\tbest: 0.8747367 (181)\ttotal: 54.8s\tremaining: 4m 6s\n",
            "182:\ttest: 0.8747381\tbest: 0.8747381 (182)\ttotal: 55.1s\tremaining: 4m 5s\n",
            "183:\ttest: 0.8747546\tbest: 0.8747546 (183)\ttotal: 55.4s\tremaining: 4m 5s\n",
            "184:\ttest: 0.8747487\tbest: 0.8747546 (183)\ttotal: 55.7s\tremaining: 4m 5s\n",
            "185:\ttest: 0.8747842\tbest: 0.8747842 (185)\ttotal: 56s\tremaining: 4m 5s\n",
            "186:\ttest: 0.8747973\tbest: 0.8747973 (186)\ttotal: 56.4s\tremaining: 4m 5s\n",
            "187:\ttest: 0.8748130\tbest: 0.8748130 (187)\ttotal: 56.6s\tremaining: 4m 4s\n",
            "188:\ttest: 0.8748009\tbest: 0.8748130 (187)\ttotal: 57s\tremaining: 4m 4s\n",
            "189:\ttest: 0.8748104\tbest: 0.8748130 (187)\ttotal: 57.3s\tremaining: 4m 4s\n",
            "190:\ttest: 0.8748238\tbest: 0.8748238 (190)\ttotal: 57.6s\tremaining: 4m 4s\n",
            "191:\ttest: 0.8748309\tbest: 0.8748309 (191)\ttotal: 58s\tremaining: 4m 3s\n",
            "192:\ttest: 0.8748380\tbest: 0.8748380 (192)\ttotal: 58.3s\tremaining: 4m 3s\n",
            "193:\ttest: 0.8748533\tbest: 0.8748533 (193)\ttotal: 58.6s\tremaining: 4m 3s\n",
            "194:\ttest: 0.8748709\tbest: 0.8748709 (194)\ttotal: 58.9s\tremaining: 4m 3s\n",
            "195:\ttest: 0.8748751\tbest: 0.8748751 (195)\ttotal: 59.3s\tremaining: 4m 3s\n",
            "196:\ttest: 0.8748713\tbest: 0.8748751 (195)\ttotal: 59.6s\tremaining: 4m 3s\n",
            "197:\ttest: 0.8748627\tbest: 0.8748751 (195)\ttotal: 1m\tremaining: 4m 3s\n",
            "198:\ttest: 0.8748359\tbest: 0.8748751 (195)\ttotal: 1m\tremaining: 4m 3s\n",
            "199:\ttest: 0.8748413\tbest: 0.8748751 (195)\ttotal: 1m\tremaining: 4m 3s\n",
            "200:\ttest: 0.8748517\tbest: 0.8748751 (195)\ttotal: 1m 1s\tremaining: 4m 3s\n",
            "201:\ttest: 0.8748376\tbest: 0.8748751 (195)\ttotal: 1m 1s\tremaining: 4m 3s\n",
            "202:\ttest: 0.8748383\tbest: 0.8748751 (195)\ttotal: 1m 1s\tremaining: 4m 2s\n",
            "203:\ttest: 0.8748380\tbest: 0.8748751 (195)\ttotal: 1m 2s\tremaining: 4m 2s\n",
            "204:\ttest: 0.8748268\tbest: 0.8748751 (195)\ttotal: 1m 2s\tremaining: 4m 2s\n",
            "205:\ttest: 0.8748188\tbest: 0.8748751 (195)\ttotal: 1m 2s\tremaining: 4m 2s\n",
            "206:\ttest: 0.8748463\tbest: 0.8748751 (195)\ttotal: 1m 3s\tremaining: 4m 2s\n",
            "207:\ttest: 0.8748184\tbest: 0.8748751 (195)\ttotal: 1m 3s\tremaining: 4m 2s\n",
            "208:\ttest: 0.8748139\tbest: 0.8748751 (195)\ttotal: 1m 3s\tremaining: 4m 1s\n",
            "209:\ttest: 0.8748287\tbest: 0.8748751 (195)\ttotal: 1m 4s\tremaining: 4m 1s\n",
            "210:\ttest: 0.8748177\tbest: 0.8748751 (195)\ttotal: 1m 4s\tremaining: 4m 1s\n",
            "211:\ttest: 0.8748047\tbest: 0.8748751 (195)\ttotal: 1m 4s\tremaining: 4m 1s\n",
            "212:\ttest: 0.8748119\tbest: 0.8748751 (195)\ttotal: 1m 5s\tremaining: 4m 1s\n",
            "213:\ttest: 0.8748262\tbest: 0.8748751 (195)\ttotal: 1m 5s\tremaining: 4m 1s\n",
            "214:\ttest: 0.8748410\tbest: 0.8748751 (195)\ttotal: 1m 5s\tremaining: 4m\n",
            "215:\ttest: 0.8748236\tbest: 0.8748751 (195)\ttotal: 1m 6s\tremaining: 4m\n",
            "Stopped by overfitting detector  (20 iterations wait)\n",
            "\n",
            "bestTest = 0.874875092\n",
            "bestIteration = 195\n",
            "\n",
            "Shrink model to first 196 iterations.\n",
            "model saved\n",
            "Learning rate set to 0.116792\n",
            "0:\ttest: 0.8641006\tbest: 0.8641006 (0)\ttotal: 334ms\tremaining: 5m 33s\n",
            "1:\ttest: 0.8649131\tbest: 0.8649131 (1)\ttotal: 641ms\tremaining: 5m 20s\n",
            "2:\ttest: 0.8668929\tbest: 0.8668929 (2)\ttotal: 928ms\tremaining: 5m 8s\n",
            "3:\ttest: 0.8673571\tbest: 0.8673571 (3)\ttotal: 1.2s\tremaining: 4m 57s\n",
            "4:\ttest: 0.8672361\tbest: 0.8673571 (3)\ttotal: 1.46s\tremaining: 4m 51s\n",
            "5:\ttest: 0.8677995\tbest: 0.8677995 (5)\ttotal: 1.75s\tremaining: 4m 49s\n",
            "6:\ttest: 0.8684375\tbest: 0.8684375 (6)\ttotal: 2.08s\tremaining: 4m 54s\n",
            "7:\ttest: 0.8685951\tbest: 0.8685951 (7)\ttotal: 2.35s\tremaining: 4m 51s\n",
            "8:\ttest: 0.8690607\tbest: 0.8690607 (8)\ttotal: 2.58s\tremaining: 4m 44s\n",
            "9:\ttest: 0.8695097\tbest: 0.8695097 (9)\ttotal: 2.86s\tremaining: 4m 43s\n",
            "10:\ttest: 0.8695934\tbest: 0.8695934 (10)\ttotal: 3.09s\tremaining: 4m 37s\n",
            "11:\ttest: 0.8696909\tbest: 0.8696909 (11)\ttotal: 3.4s\tremaining: 4m 39s\n",
            "12:\ttest: 0.8700205\tbest: 0.8700205 (12)\ttotal: 3.68s\tremaining: 4m 39s\n",
            "13:\ttest: 0.8701356\tbest: 0.8701356 (13)\ttotal: 3.94s\tremaining: 4m 37s\n",
            "14:\ttest: 0.8703130\tbest: 0.8703130 (14)\ttotal: 4.22s\tremaining: 4m 36s\n",
            "15:\ttest: 0.8706581\tbest: 0.8706581 (15)\ttotal: 4.49s\tremaining: 4m 36s\n",
            "16:\ttest: 0.8708065\tbest: 0.8708065 (16)\ttotal: 4.83s\tremaining: 4m 39s\n",
            "17:\ttest: 0.8708970\tbest: 0.8708970 (17)\ttotal: 5.11s\tremaining: 4m 38s\n",
            "18:\ttest: 0.8710539\tbest: 0.8710539 (18)\ttotal: 5.46s\tremaining: 4m 41s\n",
            "19:\ttest: 0.8711014\tbest: 0.8711014 (19)\ttotal: 5.75s\tremaining: 4m 41s\n",
            "20:\ttest: 0.8712939\tbest: 0.8712939 (20)\ttotal: 6.03s\tremaining: 4m 41s\n",
            "21:\ttest: 0.8714996\tbest: 0.8714996 (21)\ttotal: 6.38s\tremaining: 4m 43s\n",
            "22:\ttest: 0.8715224\tbest: 0.8715224 (22)\ttotal: 6.66s\tremaining: 4m 42s\n",
            "23:\ttest: 0.8715640\tbest: 0.8715640 (23)\ttotal: 6.94s\tremaining: 4m 42s\n",
            "24:\ttest: 0.8716127\tbest: 0.8716127 (24)\ttotal: 7.22s\tremaining: 4m 41s\n",
            "25:\ttest: 0.8717146\tbest: 0.8717146 (25)\ttotal: 7.55s\tremaining: 4m 42s\n",
            "26:\ttest: 0.8717916\tbest: 0.8717916 (26)\ttotal: 7.84s\tremaining: 4m 42s\n",
            "27:\ttest: 0.8718462\tbest: 0.8718462 (27)\ttotal: 8.14s\tremaining: 4m 42s\n",
            "28:\ttest: 0.8719220\tbest: 0.8719220 (28)\ttotal: 8.46s\tremaining: 4m 43s\n",
            "29:\ttest: 0.8719541\tbest: 0.8719541 (29)\ttotal: 8.8s\tremaining: 4m 44s\n",
            "30:\ttest: 0.8719730\tbest: 0.8719730 (30)\ttotal: 9.08s\tremaining: 4m 43s\n",
            "31:\ttest: 0.8720072\tbest: 0.8720072 (31)\ttotal: 9.36s\tremaining: 4m 43s\n",
            "32:\ttest: 0.8720520\tbest: 0.8720520 (32)\ttotal: 9.67s\tremaining: 4m 43s\n",
            "33:\ttest: 0.8721196\tbest: 0.8721196 (33)\ttotal: 9.98s\tremaining: 4m 43s\n",
            "34:\ttest: 0.8721603\tbest: 0.8721603 (34)\ttotal: 10.3s\tremaining: 4m 44s\n",
            "35:\ttest: 0.8722261\tbest: 0.8722261 (35)\ttotal: 10.7s\tremaining: 4m 45s\n",
            "36:\ttest: 0.8722602\tbest: 0.8722602 (36)\ttotal: 11s\tremaining: 4m 46s\n",
            "37:\ttest: 0.8722971\tbest: 0.8722971 (37)\ttotal: 11.3s\tremaining: 4m 47s\n",
            "38:\ttest: 0.8723322\tbest: 0.8723322 (38)\ttotal: 11.7s\tremaining: 4m 47s\n",
            "39:\ttest: 0.8724123\tbest: 0.8724123 (39)\ttotal: 12s\tremaining: 4m 48s\n",
            "40:\ttest: 0.8724829\tbest: 0.8724829 (40)\ttotal: 12.3s\tremaining: 4m 48s\n",
            "41:\ttest: 0.8725310\tbest: 0.8725310 (41)\ttotal: 12.7s\tremaining: 4m 49s\n",
            "42:\ttest: 0.8726027\tbest: 0.8726027 (42)\ttotal: 13s\tremaining: 4m 48s\n",
            "43:\ttest: 0.8726635\tbest: 0.8726635 (43)\ttotal: 13.3s\tremaining: 4m 48s\n",
            "44:\ttest: 0.8726470\tbest: 0.8726635 (43)\ttotal: 13.6s\tremaining: 4m 48s\n",
            "45:\ttest: 0.8726459\tbest: 0.8726635 (43)\ttotal: 13.7s\tremaining: 4m 43s\n",
            "46:\ttest: 0.8727427\tbest: 0.8727427 (46)\ttotal: 14s\tremaining: 4m 44s\n",
            "47:\ttest: 0.8728078\tbest: 0.8728078 (47)\ttotal: 14.3s\tremaining: 4m 43s\n",
            "48:\ttest: 0.8728165\tbest: 0.8728165 (48)\ttotal: 14.4s\tremaining: 4m 39s\n",
            "49:\ttest: 0.8728463\tbest: 0.8728463 (49)\ttotal: 14.8s\tremaining: 4m 40s\n",
            "50:\ttest: 0.8728300\tbest: 0.8728463 (49)\ttotal: 15.1s\tremaining: 4m 40s\n",
            "51:\ttest: 0.8728629\tbest: 0.8728629 (51)\ttotal: 15.3s\tremaining: 4m 39s\n",
            "52:\ttest: 0.8728712\tbest: 0.8728712 (52)\ttotal: 15.5s\tremaining: 4m 36s\n",
            "53:\ttest: 0.8728579\tbest: 0.8728712 (52)\ttotal: 15.8s\tremaining: 4m 36s\n",
            "54:\ttest: 0.8728829\tbest: 0.8728829 (54)\ttotal: 16.1s\tremaining: 4m 37s\n",
            "55:\ttest: 0.8729380\tbest: 0.8729380 (55)\ttotal: 16.4s\tremaining: 4m 37s\n",
            "56:\ttest: 0.8729477\tbest: 0.8729477 (56)\ttotal: 16.8s\tremaining: 4m 37s\n",
            "57:\ttest: 0.8729873\tbest: 0.8729873 (57)\ttotal: 17.1s\tremaining: 4m 38s\n",
            "58:\ttest: 0.8730579\tbest: 0.8730579 (58)\ttotal: 17.5s\tremaining: 4m 39s\n",
            "59:\ttest: 0.8730460\tbest: 0.8730579 (58)\ttotal: 17.8s\tremaining: 4m 39s\n",
            "60:\ttest: 0.8730327\tbest: 0.8730579 (58)\ttotal: 18.1s\tremaining: 4m 38s\n",
            "61:\ttest: 0.8730265\tbest: 0.8730579 (58)\ttotal: 18.4s\tremaining: 4m 38s\n",
            "62:\ttest: 0.8730250\tbest: 0.8730579 (58)\ttotal: 18.6s\tremaining: 4m 36s\n",
            "63:\ttest: 0.8729831\tbest: 0.8730579 (58)\ttotal: 18.8s\tremaining: 4m 35s\n",
            "64:\ttest: 0.8729714\tbest: 0.8730579 (58)\ttotal: 19.1s\tremaining: 4m 35s\n",
            "65:\ttest: 0.8729815\tbest: 0.8730579 (58)\ttotal: 19.4s\tremaining: 4m 34s\n",
            "66:\ttest: 0.8729906\tbest: 0.8730579 (58)\ttotal: 19.7s\tremaining: 4m 34s\n",
            "67:\ttest: 0.8730025\tbest: 0.8730579 (58)\ttotal: 20s\tremaining: 4m 34s\n",
            "68:\ttest: 0.8729765\tbest: 0.8730579 (58)\ttotal: 20.2s\tremaining: 4m 33s\n",
            "69:\ttest: 0.8729870\tbest: 0.8730579 (58)\ttotal: 20.6s\tremaining: 4m 33s\n",
            "70:\ttest: 0.8730279\tbest: 0.8730579 (58)\ttotal: 20.9s\tremaining: 4m 33s\n",
            "71:\ttest: 0.8730376\tbest: 0.8730579 (58)\ttotal: 21.2s\tremaining: 4m 32s\n",
            "72:\ttest: 0.8730937\tbest: 0.8730937 (72)\ttotal: 21.6s\tremaining: 4m 33s\n",
            "73:\ttest: 0.8731077\tbest: 0.8731077 (73)\ttotal: 21.9s\tremaining: 4m 33s\n",
            "74:\ttest: 0.8731133\tbest: 0.8731133 (74)\ttotal: 22.1s\tremaining: 4m 33s\n",
            "75:\ttest: 0.8731301\tbest: 0.8731301 (75)\ttotal: 22.5s\tremaining: 4m 33s\n",
            "76:\ttest: 0.8731694\tbest: 0.8731694 (76)\ttotal: 22.7s\tremaining: 4m 32s\n",
            "77:\ttest: 0.8732335\tbest: 0.8732335 (77)\ttotal: 23s\tremaining: 4m 31s\n",
            "78:\ttest: 0.8732319\tbest: 0.8732335 (77)\ttotal: 23.3s\tremaining: 4m 31s\n",
            "79:\ttest: 0.8732319\tbest: 0.8732335 (77)\ttotal: 23.5s\tremaining: 4m 29s\n",
            "80:\ttest: 0.8732352\tbest: 0.8732352 (80)\ttotal: 23.8s\tremaining: 4m 29s\n",
            "81:\ttest: 0.8732353\tbest: 0.8732353 (81)\ttotal: 24.1s\tremaining: 4m 29s\n",
            "82:\ttest: 0.8732319\tbest: 0.8732353 (81)\ttotal: 24.4s\tremaining: 4m 29s\n",
            "83:\ttest: 0.8732462\tbest: 0.8732462 (83)\ttotal: 24.7s\tremaining: 4m 28s\n",
            "84:\ttest: 0.8732362\tbest: 0.8732462 (83)\ttotal: 25s\tremaining: 4m 28s\n",
            "85:\ttest: 0.8732663\tbest: 0.8732663 (85)\ttotal: 25.3s\tremaining: 4m 28s\n",
            "86:\ttest: 0.8731853\tbest: 0.8732663 (85)\ttotal: 25.6s\tremaining: 4m 28s\n",
            "87:\ttest: 0.8731794\tbest: 0.8732663 (85)\ttotal: 25.9s\tremaining: 4m 28s\n",
            "88:\ttest: 0.8731428\tbest: 0.8732663 (85)\ttotal: 26.1s\tremaining: 4m 27s\n",
            "89:\ttest: 0.8731545\tbest: 0.8732663 (85)\ttotal: 26.4s\tremaining: 4m 27s\n",
            "90:\ttest: 0.8731720\tbest: 0.8732663 (85)\ttotal: 26.7s\tremaining: 4m 26s\n",
            "91:\ttest: 0.8731854\tbest: 0.8732663 (85)\ttotal: 27s\tremaining: 4m 26s\n",
            "92:\ttest: 0.8731783\tbest: 0.8732663 (85)\ttotal: 27.2s\tremaining: 4m 25s\n",
            "93:\ttest: 0.8731681\tbest: 0.8732663 (85)\ttotal: 27.6s\tremaining: 4m 25s\n",
            "94:\ttest: 0.8731686\tbest: 0.8732663 (85)\ttotal: 27.9s\tremaining: 4m 25s\n",
            "95:\ttest: 0.8731077\tbest: 0.8732663 (85)\ttotal: 28.1s\tremaining: 4m 25s\n",
            "96:\ttest: 0.8731275\tbest: 0.8732663 (85)\ttotal: 28.5s\tremaining: 4m 24s\n",
            "97:\ttest: 0.8731360\tbest: 0.8732663 (85)\ttotal: 28.7s\tremaining: 4m 24s\n",
            "98:\ttest: 0.8731442\tbest: 0.8732663 (85)\ttotal: 29.1s\tremaining: 4m 24s\n",
            "99:\ttest: 0.8731479\tbest: 0.8732663 (85)\ttotal: 29.4s\tremaining: 4m 24s\n",
            "100:\ttest: 0.8731457\tbest: 0.8732663 (85)\ttotal: 29.7s\tremaining: 4m 24s\n",
            "101:\ttest: 0.8731614\tbest: 0.8732663 (85)\ttotal: 30s\tremaining: 4m 24s\n",
            "102:\ttest: 0.8731656\tbest: 0.8732663 (85)\ttotal: 30.3s\tremaining: 4m 23s\n",
            "103:\ttest: 0.8731960\tbest: 0.8732663 (85)\ttotal: 30.7s\tremaining: 4m 24s\n",
            "104:\ttest: 0.8732151\tbest: 0.8732663 (85)\ttotal: 31s\tremaining: 4m 24s\n",
            "105:\ttest: 0.8731927\tbest: 0.8732663 (85)\ttotal: 31.3s\tremaining: 4m 24s\n",
            "Stopped by overfitting detector  (20 iterations wait)\n",
            "\n",
            "bestTest = 0.8732662973\n",
            "bestIteration = 85\n",
            "\n",
            "Shrink model to first 86 iterations.\n",
            "Learning rate set to 0.116792\n",
            "0:\ttest: 0.8636002\tbest: 0.8636002 (0)\ttotal: 332ms\tremaining: 5m 32s\n",
            "1:\ttest: 0.8648548\tbest: 0.8648548 (1)\ttotal: 621ms\tremaining: 5m 10s\n",
            "2:\ttest: 0.8667322\tbest: 0.8667322 (2)\ttotal: 912ms\tremaining: 5m 3s\n",
            "3:\ttest: 0.8674219\tbest: 0.8674219 (3)\ttotal: 1.16s\tremaining: 4m 48s\n",
            "4:\ttest: 0.8677071\tbest: 0.8677071 (4)\ttotal: 1.43s\tremaining: 4m 43s\n",
            "5:\ttest: 0.8682767\tbest: 0.8682767 (5)\ttotal: 1.66s\tremaining: 4m 34s\n",
            "6:\ttest: 0.8688481\tbest: 0.8688481 (6)\ttotal: 1.92s\tremaining: 4m 32s\n",
            "7:\ttest: 0.8690414\tbest: 0.8690414 (7)\ttotal: 2.21s\tremaining: 4m 34s\n",
            "8:\ttest: 0.8690409\tbest: 0.8690414 (7)\ttotal: 2.36s\tremaining: 4m 19s\n",
            "9:\ttest: 0.8690124\tbest: 0.8690414 (7)\ttotal: 2.59s\tremaining: 4m 16s\n",
            "10:\ttest: 0.8693768\tbest: 0.8693768 (10)\ttotal: 2.92s\tremaining: 4m 22s\n",
            "11:\ttest: 0.8695216\tbest: 0.8695216 (11)\ttotal: 3.23s\tremaining: 4m 26s\n",
            "12:\ttest: 0.8695971\tbest: 0.8695971 (12)\ttotal: 3.49s\tremaining: 4m 25s\n",
            "13:\ttest: 0.8697762\tbest: 0.8697762 (13)\ttotal: 3.78s\tremaining: 4m 26s\n",
            "14:\ttest: 0.8699388\tbest: 0.8699388 (14)\ttotal: 4.1s\tremaining: 4m 29s\n",
            "15:\ttest: 0.8698417\tbest: 0.8699388 (14)\ttotal: 4.25s\tremaining: 4m 21s\n",
            "16:\ttest: 0.8702403\tbest: 0.8702403 (16)\ttotal: 4.51s\tremaining: 4m 20s\n",
            "17:\ttest: 0.8704699\tbest: 0.8704699 (17)\ttotal: 4.79s\tremaining: 4m 21s\n",
            "18:\ttest: 0.8705640\tbest: 0.8705640 (18)\ttotal: 5.09s\tremaining: 4m 22s\n",
            "19:\ttest: 0.8707357\tbest: 0.8707357 (19)\ttotal: 5.35s\tremaining: 4m 22s\n",
            "20:\ttest: 0.8709266\tbest: 0.8709266 (20)\ttotal: 5.66s\tremaining: 4m 23s\n",
            "21:\ttest: 0.8710208\tbest: 0.8710208 (21)\ttotal: 5.93s\tremaining: 4m 23s\n",
            "22:\ttest: 0.8710931\tbest: 0.8710931 (22)\ttotal: 6.22s\tremaining: 4m 24s\n",
            "23:\ttest: 0.8713255\tbest: 0.8713255 (23)\ttotal: 6.54s\tremaining: 4m 26s\n",
            "24:\ttest: 0.8713835\tbest: 0.8713835 (24)\ttotal: 6.89s\tremaining: 4m 28s\n",
            "25:\ttest: 0.8715788\tbest: 0.8715788 (25)\ttotal: 7.18s\tremaining: 4m 29s\n",
            "26:\ttest: 0.8717290\tbest: 0.8717290 (26)\ttotal: 7.45s\tremaining: 4m 28s\n",
            "27:\ttest: 0.8717893\tbest: 0.8717893 (27)\ttotal: 7.68s\tremaining: 4m 26s\n",
            "28:\ttest: 0.8718798\tbest: 0.8718798 (28)\ttotal: 7.97s\tremaining: 4m 27s\n",
            "29:\ttest: 0.8719287\tbest: 0.8719287 (29)\ttotal: 8.29s\tremaining: 4m 27s\n",
            "30:\ttest: 0.8720346\tbest: 0.8720346 (30)\ttotal: 8.44s\tremaining: 4m 23s\n",
            "31:\ttest: 0.8720867\tbest: 0.8720867 (31)\ttotal: 8.75s\tremaining: 4m 24s\n",
            "32:\ttest: 0.8723436\tbest: 0.8723436 (32)\ttotal: 9.08s\tremaining: 4m 25s\n",
            "33:\ttest: 0.8724895\tbest: 0.8724895 (33)\ttotal: 9.44s\tremaining: 4m 28s\n",
            "34:\ttest: 0.8725349\tbest: 0.8725349 (34)\ttotal: 9.77s\tremaining: 4m 29s\n",
            "35:\ttest: 0.8726053\tbest: 0.8726053 (35)\ttotal: 10s\tremaining: 4m 28s\n",
            "36:\ttest: 0.8726316\tbest: 0.8726316 (36)\ttotal: 10.4s\tremaining: 4m 30s\n",
            "37:\ttest: 0.8726714\tbest: 0.8726714 (37)\ttotal: 10.7s\tremaining: 4m 31s\n",
            "38:\ttest: 0.8727337\tbest: 0.8727337 (38)\ttotal: 11s\tremaining: 4m 30s\n",
            "39:\ttest: 0.8726959\tbest: 0.8727337 (38)\ttotal: 11.3s\tremaining: 4m 30s\n",
            "40:\ttest: 0.8726959\tbest: 0.8727337 (38)\ttotal: 11.3s\tremaining: 4m 25s\n",
            "41:\ttest: 0.8727888\tbest: 0.8727888 (41)\ttotal: 11.6s\tremaining: 4m 25s\n",
            "42:\ttest: 0.8728052\tbest: 0.8728052 (42)\ttotal: 12s\tremaining: 4m 26s\n",
            "43:\ttest: 0.8728723\tbest: 0.8728723 (43)\ttotal: 12.3s\tremaining: 4m 26s\n",
            "44:\ttest: 0.8729436\tbest: 0.8729436 (44)\ttotal: 12.5s\tremaining: 4m 25s\n",
            "45:\ttest: 0.8729599\tbest: 0.8729599 (45)\ttotal: 12.8s\tremaining: 4m 26s\n",
            "46:\ttest: 0.8730015\tbest: 0.8730015 (46)\ttotal: 13.2s\tremaining: 4m 27s\n",
            "47:\ttest: 0.8730119\tbest: 0.8730119 (47)\ttotal: 13.3s\tremaining: 4m 23s\n",
            "48:\ttest: 0.8730499\tbest: 0.8730499 (48)\ttotal: 13.6s\tremaining: 4m 24s\n",
            "49:\ttest: 0.8730955\tbest: 0.8730955 (49)\ttotal: 14s\tremaining: 4m 25s\n",
            "50:\ttest: 0.8731472\tbest: 0.8731472 (50)\ttotal: 14.2s\tremaining: 4m 24s\n",
            "51:\ttest: 0.8730981\tbest: 0.8731472 (50)\ttotal: 14.5s\tremaining: 4m 24s\n",
            "52:\ttest: 0.8731272\tbest: 0.8731472 (50)\ttotal: 14.8s\tremaining: 4m 23s\n",
            "53:\ttest: 0.8731550\tbest: 0.8731550 (53)\ttotal: 15.1s\tremaining: 4m 23s\n",
            "54:\ttest: 0.8731824\tbest: 0.8731824 (54)\ttotal: 15.3s\tremaining: 4m 23s\n",
            "55:\ttest: 0.8732065\tbest: 0.8732065 (55)\ttotal: 15.7s\tremaining: 4m 23s\n",
            "56:\ttest: 0.8732377\tbest: 0.8732377 (56)\ttotal: 15.9s\tremaining: 4m 23s\n",
            "57:\ttest: 0.8732359\tbest: 0.8732377 (56)\ttotal: 16.2s\tremaining: 4m 22s\n",
            "58:\ttest: 0.8732341\tbest: 0.8732377 (56)\ttotal: 16.5s\tremaining: 4m 23s\n",
            "59:\ttest: 0.8732343\tbest: 0.8732377 (56)\ttotal: 16.8s\tremaining: 4m 23s\n",
            "60:\ttest: 0.8732366\tbest: 0.8732377 (56)\ttotal: 17.1s\tremaining: 4m 22s\n",
            "61:\ttest: 0.8732497\tbest: 0.8732497 (61)\ttotal: 17.4s\tremaining: 4m 22s\n",
            "62:\ttest: 0.8732564\tbest: 0.8732564 (62)\ttotal: 17.7s\tremaining: 4m 23s\n",
            "63:\ttest: 0.8732684\tbest: 0.8732684 (63)\ttotal: 18s\tremaining: 4m 23s\n",
            "64:\ttest: 0.8732522\tbest: 0.8732684 (63)\ttotal: 18.2s\tremaining: 4m 21s\n",
            "65:\ttest: 0.8732517\tbest: 0.8732684 (63)\ttotal: 18.4s\tremaining: 4m 20s\n",
            "66:\ttest: 0.8732636\tbest: 0.8732684 (63)\ttotal: 18.7s\tremaining: 4m 20s\n",
            "67:\ttest: 0.8732646\tbest: 0.8732684 (63)\ttotal: 19s\tremaining: 4m 20s\n",
            "68:\ttest: 0.8732835\tbest: 0.8732835 (68)\ttotal: 19.3s\tremaining: 4m 20s\n",
            "69:\ttest: 0.8733001\tbest: 0.8733001 (69)\ttotal: 19.6s\tremaining: 4m 19s\n",
            "70:\ttest: 0.8733122\tbest: 0.8733122 (70)\ttotal: 19.8s\tremaining: 4m 19s\n",
            "71:\ttest: 0.8733076\tbest: 0.8733122 (70)\ttotal: 20s\tremaining: 4m 17s\n",
            "72:\ttest: 0.8733295\tbest: 0.8733295 (72)\ttotal: 20.3s\tremaining: 4m 17s\n",
            "73:\ttest: 0.8733316\tbest: 0.8733316 (73)\ttotal: 20.6s\tremaining: 4m 17s\n",
            "74:\ttest: 0.8733623\tbest: 0.8733623 (74)\ttotal: 20.9s\tremaining: 4m 17s\n",
            "75:\ttest: 0.8733727\tbest: 0.8733727 (75)\ttotal: 21.2s\tremaining: 4m 17s\n",
            "76:\ttest: 0.8733976\tbest: 0.8733976 (76)\ttotal: 21.5s\tremaining: 4m 17s\n",
            "77:\ttest: 0.8734261\tbest: 0.8734261 (77)\ttotal: 21.8s\tremaining: 4m 17s\n",
            "78:\ttest: 0.8734261\tbest: 0.8734261 (77)\ttotal: 21.9s\tremaining: 4m 15s\n",
            "79:\ttest: 0.8734301\tbest: 0.8734301 (79)\ttotal: 22.2s\tremaining: 4m 15s\n",
            "80:\ttest: 0.8734399\tbest: 0.8734399 (80)\ttotal: 22.5s\tremaining: 4m 14s\n",
            "81:\ttest: 0.8734441\tbest: 0.8734441 (81)\ttotal: 22.8s\tremaining: 4m 14s\n",
            "82:\ttest: 0.8734422\tbest: 0.8734441 (81)\ttotal: 23.2s\tremaining: 4m 15s\n",
            "83:\ttest: 0.8734726\tbest: 0.8734726 (83)\ttotal: 23.4s\tremaining: 4m 15s\n",
            "84:\ttest: 0.8734726\tbest: 0.8734726 (83)\ttotal: 23.5s\tremaining: 4m 13s\n",
            "85:\ttest: 0.8734737\tbest: 0.8734737 (85)\ttotal: 23.8s\tremaining: 4m 13s\n",
            "86:\ttest: 0.8734696\tbest: 0.8734737 (85)\ttotal: 24.2s\tremaining: 4m 13s\n",
            "87:\ttest: 0.8734716\tbest: 0.8734737 (85)\ttotal: 24.4s\tremaining: 4m 13s\n",
            "88:\ttest: 0.8734627\tbest: 0.8734737 (85)\ttotal: 24.7s\tremaining: 4m 13s\n",
            "89:\ttest: 0.8734686\tbest: 0.8734737 (85)\ttotal: 25.1s\tremaining: 4m 13s\n",
            "90:\ttest: 0.8734740\tbest: 0.8734740 (90)\ttotal: 25.4s\tremaining: 4m 13s\n",
            "91:\ttest: 0.8734730\tbest: 0.8734740 (90)\ttotal: 25.7s\tremaining: 4m 13s\n",
            "92:\ttest: 0.8734913\tbest: 0.8734913 (92)\ttotal: 25.9s\tremaining: 4m 12s\n",
            "93:\ttest: 0.8735351\tbest: 0.8735351 (93)\ttotal: 26.3s\tremaining: 4m 13s\n",
            "94:\ttest: 0.8735597\tbest: 0.8735597 (94)\ttotal: 26.6s\tremaining: 4m 13s\n",
            "95:\ttest: 0.8735346\tbest: 0.8735597 (94)\ttotal: 26.9s\tremaining: 4m 13s\n",
            "96:\ttest: 0.8735182\tbest: 0.8735597 (94)\ttotal: 27.2s\tremaining: 4m 12s\n",
            "97:\ttest: 0.8734900\tbest: 0.8735597 (94)\ttotal: 27.4s\tremaining: 4m 12s\n",
            "98:\ttest: 0.8734822\tbest: 0.8735597 (94)\ttotal: 27.8s\tremaining: 4m 12s\n",
            "99:\ttest: 0.8735007\tbest: 0.8735597 (94)\ttotal: 28.1s\tremaining: 4m 12s\n",
            "100:\ttest: 0.8735704\tbest: 0.8735704 (100)\ttotal: 28.4s\tremaining: 4m 12s\n",
            "101:\ttest: 0.8735393\tbest: 0.8735704 (100)\ttotal: 28.7s\tremaining: 4m 12s\n",
            "102:\ttest: 0.8735392\tbest: 0.8735704 (100)\ttotal: 29s\tremaining: 4m 12s\n",
            "103:\ttest: 0.8735361\tbest: 0.8735704 (100)\ttotal: 29.4s\tremaining: 4m 12s\n",
            "104:\ttest: 0.8735456\tbest: 0.8735704 (100)\ttotal: 29.7s\tremaining: 4m 13s\n",
            "105:\ttest: 0.8735414\tbest: 0.8735704 (100)\ttotal: 30s\tremaining: 4m 12s\n",
            "106:\ttest: 0.8735208\tbest: 0.8735704 (100)\ttotal: 30.3s\tremaining: 4m 12s\n",
            "107:\ttest: 0.8735428\tbest: 0.8735704 (100)\ttotal: 30.5s\tremaining: 4m 11s\n",
            "108:\ttest: 0.8735642\tbest: 0.8735704 (100)\ttotal: 30.9s\tremaining: 4m 12s\n",
            "109:\ttest: 0.8735567\tbest: 0.8735704 (100)\ttotal: 31.2s\tremaining: 4m 12s\n",
            "110:\ttest: 0.8735601\tbest: 0.8735704 (100)\ttotal: 31.5s\tremaining: 4m 12s\n",
            "111:\ttest: 0.8735843\tbest: 0.8735843 (111)\ttotal: 31.9s\tremaining: 4m 12s\n",
            "112:\ttest: 0.8735852\tbest: 0.8735852 (112)\ttotal: 32.2s\tremaining: 4m 12s\n",
            "113:\ttest: 0.8735634\tbest: 0.8735852 (112)\ttotal: 32.5s\tremaining: 4m 12s\n",
            "114:\ttest: 0.8735665\tbest: 0.8735852 (112)\ttotal: 32.8s\tremaining: 4m 12s\n",
            "115:\ttest: 0.8735935\tbest: 0.8735935 (115)\ttotal: 33.1s\tremaining: 4m 11s\n",
            "116:\ttest: 0.8735734\tbest: 0.8735935 (115)\ttotal: 33.4s\tremaining: 4m 12s\n",
            "117:\ttest: 0.8736029\tbest: 0.8736029 (117)\ttotal: 33.7s\tremaining: 4m 12s\n",
            "118:\ttest: 0.8735731\tbest: 0.8736029 (117)\ttotal: 34.1s\tremaining: 4m 12s\n",
            "119:\ttest: 0.8735415\tbest: 0.8736029 (117)\ttotal: 34.4s\tremaining: 4m 12s\n",
            "120:\ttest: 0.8735704\tbest: 0.8736029 (117)\ttotal: 34.7s\tremaining: 4m 12s\n",
            "121:\ttest: 0.8735776\tbest: 0.8736029 (117)\ttotal: 35.1s\tremaining: 4m 12s\n",
            "122:\ttest: 0.8736161\tbest: 0.8736161 (122)\ttotal: 35.4s\tremaining: 4m 12s\n",
            "123:\ttest: 0.8735779\tbest: 0.8736161 (122)\ttotal: 35.7s\tremaining: 4m 12s\n",
            "124:\ttest: 0.8735889\tbest: 0.8736161 (122)\ttotal: 36s\tremaining: 4m 12s\n",
            "125:\ttest: 0.8735887\tbest: 0.8736161 (122)\ttotal: 36.4s\tremaining: 4m 12s\n",
            "126:\ttest: 0.8735934\tbest: 0.8736161 (122)\ttotal: 36.7s\tremaining: 4m 12s\n",
            "127:\ttest: 0.8735863\tbest: 0.8736161 (122)\ttotal: 37s\tremaining: 4m 12s\n",
            "128:\ttest: 0.8736144\tbest: 0.8736161 (122)\ttotal: 37.4s\tremaining: 4m 12s\n",
            "129:\ttest: 0.8736080\tbest: 0.8736161 (122)\ttotal: 37.7s\tremaining: 4m 12s\n",
            "130:\ttest: 0.8735991\tbest: 0.8736161 (122)\ttotal: 38s\tremaining: 4m 11s\n",
            "131:\ttest: 0.8736014\tbest: 0.8736161 (122)\ttotal: 38.3s\tremaining: 4m 11s\n",
            "132:\ttest: 0.8736395\tbest: 0.8736395 (132)\ttotal: 38.6s\tremaining: 4m 11s\n",
            "133:\ttest: 0.8736602\tbest: 0.8736602 (133)\ttotal: 38.9s\tremaining: 4m 11s\n",
            "134:\ttest: 0.8736562\tbest: 0.8736602 (133)\ttotal: 39.2s\tremaining: 4m 11s\n",
            "135:\ttest: 0.8736387\tbest: 0.8736602 (133)\ttotal: 39.5s\tremaining: 4m 11s\n",
            "136:\ttest: 0.8736440\tbest: 0.8736602 (133)\ttotal: 39.8s\tremaining: 4m 10s\n",
            "137:\ttest: 0.8737210\tbest: 0.8737210 (137)\ttotal: 40.2s\tremaining: 4m 11s\n",
            "138:\ttest: 0.8737255\tbest: 0.8737255 (138)\ttotal: 40.6s\tremaining: 4m 11s\n",
            "139:\ttest: 0.8737166\tbest: 0.8737255 (138)\ttotal: 40.8s\tremaining: 4m 10s\n",
            "140:\ttest: 0.8737174\tbest: 0.8737255 (138)\ttotal: 41.2s\tremaining: 4m 10s\n",
            "141:\ttest: 0.8737003\tbest: 0.8737255 (138)\ttotal: 41.5s\tremaining: 4m 10s\n",
            "142:\ttest: 0.8736948\tbest: 0.8737255 (138)\ttotal: 41.8s\tremaining: 4m 10s\n",
            "143:\ttest: 0.8736897\tbest: 0.8737255 (138)\ttotal: 42.2s\tremaining: 4m 10s\n",
            "144:\ttest: 0.8736933\tbest: 0.8737255 (138)\ttotal: 42.5s\tremaining: 4m 10s\n",
            "145:\ttest: 0.8737060\tbest: 0.8737255 (138)\ttotal: 42.9s\tremaining: 4m 11s\n",
            "146:\ttest: 0.8736731\tbest: 0.8737255 (138)\ttotal: 43.2s\tremaining: 4m 10s\n",
            "147:\ttest: 0.8736453\tbest: 0.8737255 (138)\ttotal: 43.5s\tremaining: 4m 10s\n",
            "148:\ttest: 0.8736348\tbest: 0.8737255 (138)\ttotal: 43.8s\tremaining: 4m 10s\n",
            "149:\ttest: 0.8736449\tbest: 0.8737255 (138)\ttotal: 44.2s\tremaining: 4m 10s\n",
            "150:\ttest: 0.8736433\tbest: 0.8737255 (138)\ttotal: 44.5s\tremaining: 4m 10s\n",
            "151:\ttest: 0.8736604\tbest: 0.8737255 (138)\ttotal: 44.8s\tremaining: 4m 9s\n",
            "152:\ttest: 0.8736506\tbest: 0.8737255 (138)\ttotal: 45.1s\tremaining: 4m 9s\n",
            "153:\ttest: 0.8736713\tbest: 0.8737255 (138)\ttotal: 45.4s\tremaining: 4m 9s\n",
            "154:\ttest: 0.8737051\tbest: 0.8737255 (138)\ttotal: 45.8s\tremaining: 4m 9s\n",
            "155:\ttest: 0.8736886\tbest: 0.8737255 (138)\ttotal: 46.1s\tremaining: 4m 9s\n",
            "156:\ttest: 0.8736892\tbest: 0.8737255 (138)\ttotal: 46.4s\tremaining: 4m 9s\n",
            "157:\ttest: 0.8736833\tbest: 0.8737255 (138)\ttotal: 46.7s\tremaining: 4m 9s\n",
            "158:\ttest: 0.8737147\tbest: 0.8737255 (138)\ttotal: 47s\tremaining: 4m 8s\n",
            "Stopped by overfitting detector  (20 iterations wait)\n",
            "\n",
            "bestTest = 0.8737254648\n",
            "bestIteration = 138\n",
            "\n",
            "Shrink model to first 139 iterations.\n",
            "Learning rate set to 0.116792\n",
            "0:\ttest: 0.8661357\tbest: 0.8661357 (0)\ttotal: 342ms\tremaining: 5m 41s\n",
            "1:\ttest: 0.8661735\tbest: 0.8661735 (1)\ttotal: 644ms\tremaining: 5m 21s\n",
            "2:\ttest: 0.8668117\tbest: 0.8668117 (2)\ttotal: 962ms\tremaining: 5m 19s\n",
            "3:\ttest: 0.8669381\tbest: 0.8669381 (3)\ttotal: 1.22s\tremaining: 5m 4s\n",
            "4:\ttest: 0.8675988\tbest: 0.8675988 (4)\ttotal: 1.47s\tremaining: 4m 52s\n",
            "5:\ttest: 0.8690582\tbest: 0.8690582 (5)\ttotal: 1.73s\tremaining: 4m 46s\n",
            "6:\ttest: 0.8697054\tbest: 0.8697054 (6)\ttotal: 1.99s\tremaining: 4m 41s\n",
            "7:\ttest: 0.8698070\tbest: 0.8698070 (7)\ttotal: 2.23s\tremaining: 4m 36s\n",
            "8:\ttest: 0.8696266\tbest: 0.8698070 (7)\ttotal: 2.48s\tremaining: 4m 32s\n",
            "9:\ttest: 0.8697394\tbest: 0.8698070 (7)\ttotal: 2.73s\tremaining: 4m 30s\n",
            "10:\ttest: 0.8703677\tbest: 0.8703677 (10)\ttotal: 2.96s\tremaining: 4m 26s\n",
            "11:\ttest: 0.8708018\tbest: 0.8708018 (11)\ttotal: 3.21s\tremaining: 4m 24s\n",
            "12:\ttest: 0.8707420\tbest: 0.8708018 (11)\ttotal: 3.41s\tremaining: 4m 18s\n",
            "13:\ttest: 0.8710888\tbest: 0.8710888 (13)\ttotal: 3.69s\tremaining: 4m 19s\n",
            "14:\ttest: 0.8712124\tbest: 0.8712124 (14)\ttotal: 3.94s\tremaining: 4m 18s\n",
            "15:\ttest: 0.8718177\tbest: 0.8718177 (15)\ttotal: 4.2s\tremaining: 4m 18s\n",
            "16:\ttest: 0.8718460\tbest: 0.8718460 (16)\ttotal: 4.5s\tremaining: 4m 20s\n",
            "17:\ttest: 0.8721136\tbest: 0.8721136 (17)\ttotal: 4.79s\tremaining: 4m 21s\n",
            "18:\ttest: 0.8723129\tbest: 0.8723129 (18)\ttotal: 5.06s\tremaining: 4m 21s\n",
            "19:\ttest: 0.8724822\tbest: 0.8724822 (19)\ttotal: 5.34s\tremaining: 4m 21s\n",
            "20:\ttest: 0.8728166\tbest: 0.8728166 (20)\ttotal: 5.72s\tremaining: 4m 26s\n",
            "21:\ttest: 0.8728246\tbest: 0.8728246 (21)\ttotal: 6s\tremaining: 4m 26s\n",
            "22:\ttest: 0.8729698\tbest: 0.8729698 (22)\ttotal: 6.25s\tremaining: 4m 25s\n",
            "23:\ttest: 0.8731517\tbest: 0.8731517 (23)\ttotal: 6.56s\tremaining: 4m 26s\n",
            "24:\ttest: 0.8732518\tbest: 0.8732518 (24)\ttotal: 6.83s\tremaining: 4m 26s\n",
            "25:\ttest: 0.8733512\tbest: 0.8733512 (25)\ttotal: 7.12s\tremaining: 4m 26s\n",
            "26:\ttest: 0.8733284\tbest: 0.8733512 (25)\ttotal: 7.32s\tremaining: 4m 23s\n",
            "27:\ttest: 0.8735230\tbest: 0.8735230 (27)\ttotal: 7.6s\tremaining: 4m 23s\n",
            "28:\ttest: 0.8737535\tbest: 0.8737535 (28)\ttotal: 7.9s\tremaining: 4m 24s\n",
            "29:\ttest: 0.8738506\tbest: 0.8738506 (29)\ttotal: 8.21s\tremaining: 4m 25s\n",
            "30:\ttest: 0.8740249\tbest: 0.8740249 (30)\ttotal: 8.48s\tremaining: 4m 25s\n",
            "31:\ttest: 0.8741036\tbest: 0.8741036 (31)\ttotal: 8.75s\tremaining: 4m 24s\n",
            "32:\ttest: 0.8741090\tbest: 0.8741090 (32)\ttotal: 8.99s\tremaining: 4m 23s\n",
            "33:\ttest: 0.8741695\tbest: 0.8741695 (33)\ttotal: 9.21s\tremaining: 4m 21s\n",
            "34:\ttest: 0.8743016\tbest: 0.8743016 (34)\ttotal: 9.54s\tremaining: 4m 23s\n",
            "35:\ttest: 0.8743646\tbest: 0.8743646 (35)\ttotal: 9.82s\tremaining: 4m 23s\n",
            "36:\ttest: 0.8743310\tbest: 0.8743646 (35)\ttotal: 10.2s\tremaining: 4m 24s\n",
            "37:\ttest: 0.8743483\tbest: 0.8743646 (35)\ttotal: 10.5s\tremaining: 4m 25s\n",
            "38:\ttest: 0.8745513\tbest: 0.8745513 (38)\ttotal: 10.8s\tremaining: 4m 26s\n",
            "39:\ttest: 0.8745873\tbest: 0.8745873 (39)\ttotal: 11.2s\tremaining: 4m 27s\n",
            "40:\ttest: 0.8745992\tbest: 0.8745992 (40)\ttotal: 11.5s\tremaining: 4m 29s\n",
            "41:\ttest: 0.8746221\tbest: 0.8746221 (41)\ttotal: 11.9s\tremaining: 4m 30s\n",
            "42:\ttest: 0.8746847\tbest: 0.8746847 (42)\ttotal: 12.2s\tremaining: 4m 30s\n",
            "43:\ttest: 0.8746481\tbest: 0.8746847 (42)\ttotal: 12.5s\tremaining: 4m 30s\n",
            "44:\ttest: 0.8747081\tbest: 0.8747081 (44)\ttotal: 12.7s\tremaining: 4m 30s\n",
            "45:\ttest: 0.8747443\tbest: 0.8747443 (45)\ttotal: 13s\tremaining: 4m 30s\n",
            "46:\ttest: 0.8747961\tbest: 0.8747961 (46)\ttotal: 13.3s\tremaining: 4m 30s\n",
            "47:\ttest: 0.8748857\tbest: 0.8748857 (47)\ttotal: 13.6s\tremaining: 4m 29s\n",
            "48:\ttest: 0.8749303\tbest: 0.8749303 (48)\ttotal: 13.9s\tremaining: 4m 29s\n",
            "49:\ttest: 0.8749755\tbest: 0.8749755 (49)\ttotal: 14.2s\tremaining: 4m 28s\n",
            "50:\ttest: 0.8750046\tbest: 0.8750046 (50)\ttotal: 14.5s\tremaining: 4m 29s\n",
            "51:\ttest: 0.8750314\tbest: 0.8750314 (51)\ttotal: 14.8s\tremaining: 4m 29s\n",
            "52:\ttest: 0.8750629\tbest: 0.8750629 (52)\ttotal: 15.1s\tremaining: 4m 29s\n",
            "53:\ttest: 0.8751061\tbest: 0.8751061 (53)\ttotal: 15.3s\tremaining: 4m 28s\n",
            "54:\ttest: 0.8751530\tbest: 0.8751530 (54)\ttotal: 15.6s\tremaining: 4m 28s\n",
            "55:\ttest: 0.8752010\tbest: 0.8752010 (55)\ttotal: 15.9s\tremaining: 4m 28s\n",
            "56:\ttest: 0.8752594\tbest: 0.8752594 (56)\ttotal: 16.2s\tremaining: 4m 27s\n",
            "57:\ttest: 0.8752630\tbest: 0.8752630 (57)\ttotal: 16.5s\tremaining: 4m 28s\n",
            "58:\ttest: 0.8753234\tbest: 0.8753234 (58)\ttotal: 16.9s\tremaining: 4m 28s\n",
            "59:\ttest: 0.8753345\tbest: 0.8753345 (59)\ttotal: 17.2s\tremaining: 4m 28s\n",
            "60:\ttest: 0.8753315\tbest: 0.8753345 (59)\ttotal: 17.4s\tremaining: 4m 28s\n",
            "61:\ttest: 0.8753631\tbest: 0.8753631 (61)\ttotal: 17.7s\tremaining: 4m 28s\n",
            "62:\ttest: 0.8753697\tbest: 0.8753697 (62)\ttotal: 18s\tremaining: 4m 28s\n",
            "63:\ttest: 0.8754106\tbest: 0.8754106 (63)\ttotal: 18.3s\tremaining: 4m 28s\n",
            "64:\ttest: 0.8754300\tbest: 0.8754300 (64)\ttotal: 18.6s\tremaining: 4m 27s\n",
            "65:\ttest: 0.8754011\tbest: 0.8754300 (64)\ttotal: 18.8s\tremaining: 4m 26s\n",
            "66:\ttest: 0.8754159\tbest: 0.8754300 (64)\ttotal: 19.1s\tremaining: 4m 26s\n",
            "67:\ttest: 0.8754190\tbest: 0.8754300 (64)\ttotal: 19.3s\tremaining: 4m 23s\n",
            "68:\ttest: 0.8754077\tbest: 0.8754300 (64)\ttotal: 19.5s\tremaining: 4m 22s\n",
            "69:\ttest: 0.8754274\tbest: 0.8754300 (64)\ttotal: 19.8s\tremaining: 4m 22s\n",
            "70:\ttest: 0.8754421\tbest: 0.8754421 (70)\ttotal: 20.1s\tremaining: 4m 23s\n",
            "71:\ttest: 0.8754608\tbest: 0.8754608 (71)\ttotal: 20.4s\tremaining: 4m 23s\n",
            "72:\ttest: 0.8754395\tbest: 0.8754608 (71)\ttotal: 20.7s\tremaining: 4m 23s\n",
            "73:\ttest: 0.8754878\tbest: 0.8754878 (73)\ttotal: 21s\tremaining: 4m 22s\n",
            "74:\ttest: 0.8755447\tbest: 0.8755447 (74)\ttotal: 21.3s\tremaining: 4m 22s\n",
            "75:\ttest: 0.8755186\tbest: 0.8755447 (74)\ttotal: 21.6s\tremaining: 4m 23s\n",
            "76:\ttest: 0.8755334\tbest: 0.8755447 (74)\ttotal: 21.9s\tremaining: 4m 23s\n",
            "77:\ttest: 0.8755412\tbest: 0.8755447 (74)\ttotal: 22.3s\tremaining: 4m 23s\n",
            "78:\ttest: 0.8755706\tbest: 0.8755706 (78)\ttotal: 22.7s\tremaining: 4m 24s\n",
            "79:\ttest: 0.8756106\tbest: 0.8756106 (79)\ttotal: 23s\tremaining: 4m 23s\n",
            "80:\ttest: 0.8756584\tbest: 0.8756584 (80)\ttotal: 23.3s\tremaining: 4m 23s\n",
            "81:\ttest: 0.8756673\tbest: 0.8756673 (81)\ttotal: 23.6s\tremaining: 4m 24s\n",
            "82:\ttest: 0.8756635\tbest: 0.8756673 (81)\ttotal: 23.9s\tremaining: 4m 24s\n",
            "83:\ttest: 0.8756662\tbest: 0.8756673 (81)\ttotal: 24.2s\tremaining: 4m 23s\n",
            "84:\ttest: 0.8756834\tbest: 0.8756834 (84)\ttotal: 24.4s\tremaining: 4m 23s\n",
            "85:\ttest: 0.8756834\tbest: 0.8756834 (84)\ttotal: 24.5s\tremaining: 4m 20s\n",
            "86:\ttest: 0.8757411\tbest: 0.8757411 (86)\ttotal: 24.8s\tremaining: 4m 20s\n",
            "87:\ttest: 0.8757766\tbest: 0.8757766 (87)\ttotal: 25.1s\tremaining: 4m 20s\n",
            "88:\ttest: 0.8757980\tbest: 0.8757980 (88)\ttotal: 25.4s\tremaining: 4m 19s\n",
            "89:\ttest: 0.8757957\tbest: 0.8757980 (88)\ttotal: 25.7s\tremaining: 4m 19s\n",
            "90:\ttest: 0.8757994\tbest: 0.8757994 (90)\ttotal: 25.9s\tremaining: 4m 18s\n",
            "91:\ttest: 0.8758433\tbest: 0.8758433 (91)\ttotal: 26.3s\tremaining: 4m 19s\n",
            "92:\ttest: 0.8758736\tbest: 0.8758736 (92)\ttotal: 26.7s\tremaining: 4m 20s\n",
            "93:\ttest: 0.8758818\tbest: 0.8758818 (93)\ttotal: 27s\tremaining: 4m 19s\n",
            "94:\ttest: 0.8758767\tbest: 0.8758818 (93)\ttotal: 27.3s\tremaining: 4m 19s\n",
            "95:\ttest: 0.8758767\tbest: 0.8758818 (93)\ttotal: 27.3s\tremaining: 4m 17s\n",
            "96:\ttest: 0.8758919\tbest: 0.8758919 (96)\ttotal: 27.6s\tremaining: 4m 17s\n",
            "97:\ttest: 0.8759104\tbest: 0.8759104 (97)\ttotal: 27.9s\tremaining: 4m 16s\n",
            "98:\ttest: 0.8759104\tbest: 0.8759104 (97)\ttotal: 28s\tremaining: 4m 14s\n",
            "99:\ttest: 0.8759130\tbest: 0.8759130 (99)\ttotal: 28.4s\tremaining: 4m 15s\n",
            "100:\ttest: 0.8759197\tbest: 0.8759197 (100)\ttotal: 28.7s\tremaining: 4m 15s\n",
            "101:\ttest: 0.8758946\tbest: 0.8759197 (100)\ttotal: 29s\tremaining: 4m 15s\n",
            "102:\ttest: 0.8759129\tbest: 0.8759197 (100)\ttotal: 29.3s\tremaining: 4m 15s\n",
            "103:\ttest: 0.8759288\tbest: 0.8759288 (103)\ttotal: 29.5s\tremaining: 4m 14s\n",
            "104:\ttest: 0.8759191\tbest: 0.8759288 (103)\ttotal: 29.8s\tremaining: 4m 14s\n",
            "105:\ttest: 0.8759004\tbest: 0.8759288 (103)\ttotal: 30.1s\tremaining: 4m 13s\n",
            "106:\ttest: 0.8759379\tbest: 0.8759379 (106)\ttotal: 30.4s\tremaining: 4m 13s\n",
            "107:\ttest: 0.8760250\tbest: 0.8760250 (107)\ttotal: 30.7s\tremaining: 4m 13s\n",
            "108:\ttest: 0.8760174\tbest: 0.8760250 (107)\ttotal: 31s\tremaining: 4m 13s\n",
            "109:\ttest: 0.8760348\tbest: 0.8760348 (109)\ttotal: 31.3s\tremaining: 4m 13s\n",
            "110:\ttest: 0.8760405\tbest: 0.8760405 (110)\ttotal: 31.7s\tremaining: 4m 13s\n",
            "111:\ttest: 0.8760598\tbest: 0.8760598 (111)\ttotal: 32s\tremaining: 4m 13s\n",
            "112:\ttest: 0.8760540\tbest: 0.8760598 (111)\ttotal: 32.3s\tremaining: 4m 13s\n",
            "113:\ttest: 0.8760902\tbest: 0.8760902 (113)\ttotal: 32.5s\tremaining: 4m 12s\n",
            "114:\ttest: 0.8760856\tbest: 0.8760902 (113)\ttotal: 32.9s\tremaining: 4m 13s\n",
            "115:\ttest: 0.8760915\tbest: 0.8760915 (115)\ttotal: 33.2s\tremaining: 4m 13s\n",
            "116:\ttest: 0.8761149\tbest: 0.8761149 (116)\ttotal: 33.5s\tremaining: 4m 12s\n",
            "117:\ttest: 0.8761553\tbest: 0.8761553 (117)\ttotal: 33.9s\tremaining: 4m 13s\n",
            "118:\ttest: 0.8761892\tbest: 0.8761892 (118)\ttotal: 34.2s\tremaining: 4m 13s\n",
            "119:\ttest: 0.8761845\tbest: 0.8761892 (118)\ttotal: 34.5s\tremaining: 4m 13s\n",
            "120:\ttest: 0.8762182\tbest: 0.8762182 (120)\ttotal: 34.8s\tremaining: 4m 12s\n",
            "121:\ttest: 0.8762186\tbest: 0.8762186 (121)\ttotal: 35.1s\tremaining: 4m 12s\n",
            "122:\ttest: 0.8761429\tbest: 0.8762186 (121)\ttotal: 35.5s\tremaining: 4m 13s\n",
            "123:\ttest: 0.8761528\tbest: 0.8762186 (121)\ttotal: 35.9s\tremaining: 4m 13s\n",
            "124:\ttest: 0.8762573\tbest: 0.8762573 (124)\ttotal: 36.2s\tremaining: 4m 13s\n",
            "125:\ttest: 0.8762708\tbest: 0.8762708 (125)\ttotal: 36.5s\tremaining: 4m 13s\n",
            "126:\ttest: 0.8762639\tbest: 0.8762708 (125)\ttotal: 36.8s\tremaining: 4m 13s\n",
            "127:\ttest: 0.8762821\tbest: 0.8762821 (127)\ttotal: 37.2s\tremaining: 4m 13s\n",
            "128:\ttest: 0.8763272\tbest: 0.8763272 (128)\ttotal: 37.5s\tremaining: 4m 13s\n",
            "129:\ttest: 0.8763406\tbest: 0.8763406 (129)\ttotal: 37.9s\tremaining: 4m 13s\n",
            "130:\ttest: 0.8763336\tbest: 0.8763406 (129)\ttotal: 38.2s\tremaining: 4m 13s\n",
            "131:\ttest: 0.8763436\tbest: 0.8763436 (131)\ttotal: 38.5s\tremaining: 4m 13s\n",
            "132:\ttest: 0.8763531\tbest: 0.8763531 (132)\ttotal: 38.8s\tremaining: 4m 13s\n",
            "133:\ttest: 0.8763265\tbest: 0.8763531 (132)\ttotal: 39.2s\tremaining: 4m 13s\n",
            "134:\ttest: 0.8763399\tbest: 0.8763531 (132)\ttotal: 39.5s\tremaining: 4m 13s\n",
            "135:\ttest: 0.8763906\tbest: 0.8763906 (135)\ttotal: 39.8s\tremaining: 4m 13s\n",
            "136:\ttest: 0.8763361\tbest: 0.8763906 (135)\ttotal: 40.2s\tremaining: 4m 12s\n",
            "137:\ttest: 0.8763067\tbest: 0.8763906 (135)\ttotal: 40.5s\tremaining: 4m 12s\n",
            "138:\ttest: 0.8763248\tbest: 0.8763906 (135)\ttotal: 40.8s\tremaining: 4m 12s\n",
            "139:\ttest: 0.8763217\tbest: 0.8763906 (135)\ttotal: 41.1s\tremaining: 4m 12s\n",
            "140:\ttest: 0.8763017\tbest: 0.8763906 (135)\ttotal: 41.4s\tremaining: 4m 12s\n",
            "141:\ttest: 0.8763154\tbest: 0.8763906 (135)\ttotal: 41.8s\tremaining: 4m 12s\n",
            "142:\ttest: 0.8763051\tbest: 0.8763906 (135)\ttotal: 42.1s\tremaining: 4m 12s\n",
            "143:\ttest: 0.8762986\tbest: 0.8763906 (135)\ttotal: 42.5s\tremaining: 4m 12s\n",
            "144:\ttest: 0.8762936\tbest: 0.8763906 (135)\ttotal: 42.8s\tremaining: 4m 12s\n",
            "145:\ttest: 0.8762898\tbest: 0.8763906 (135)\ttotal: 43.1s\tremaining: 4m 12s\n",
            "146:\ttest: 0.8763062\tbest: 0.8763906 (135)\ttotal: 43.5s\tremaining: 4m 12s\n",
            "147:\ttest: 0.8762760\tbest: 0.8763906 (135)\ttotal: 43.8s\tremaining: 4m 12s\n",
            "148:\ttest: 0.8762724\tbest: 0.8763906 (135)\ttotal: 44.1s\tremaining: 4m 11s\n",
            "149:\ttest: 0.8762592\tbest: 0.8763906 (135)\ttotal: 44.4s\tremaining: 4m 11s\n",
            "150:\ttest: 0.8762580\tbest: 0.8763906 (135)\ttotal: 44.8s\tremaining: 4m 11s\n",
            "151:\ttest: 0.8762639\tbest: 0.8763906 (135)\ttotal: 45.1s\tremaining: 4m 11s\n",
            "152:\ttest: 0.8762655\tbest: 0.8763906 (135)\ttotal: 45.4s\tremaining: 4m 11s\n",
            "153:\ttest: 0.8762341\tbest: 0.8763906 (135)\ttotal: 45.7s\tremaining: 4m 11s\n",
            "154:\ttest: 0.8761772\tbest: 0.8763906 (135)\ttotal: 46s\tremaining: 4m 11s\n",
            "155:\ttest: 0.8761706\tbest: 0.8763906 (135)\ttotal: 46.4s\tremaining: 4m 11s\n",
            "Stopped by overfitting detector  (20 iterations wait)\n",
            "\n",
            "bestTest = 0.8763905873\n",
            "bestIteration = 135\n",
            "\n",
            "Shrink model to first 136 iterations.\n",
            "model saved\n"
          ],
          "name": "stdout"
        }
      ]
    },
    {
      "cell_type": "code",
      "metadata": {
        "colab": {
          "base_uri": "https://localhost:8080/"
        },
        "id": "s6GxPMckvBhq",
        "outputId": "61dfcb6f-444a-4a49-d8b7-270800bc0bb7"
      },
      "source": [
        "print(f'Highest Score is {max_}')"
      ],
      "execution_count": 119,
      "outputs": [
        {
          "output_type": "stream",
          "text": [
            "Highest Score is 0.8763905872912823\n"
          ],
          "name": "stdout"
        }
      ]
    },
    {
      "cell_type": "markdown",
      "metadata": {
        "id": "Y_DjCTtegpi-"
      },
      "source": [
        "# Predictions"
      ]
    },
    {
      "cell_type": "markdown",
      "metadata": {
        "id": "Spk39lh9PyHl"
      },
      "source": [
        "## Loading Best model"
      ]
    },
    {
      "cell_type": "code",
      "metadata": {
        "colab": {
          "base_uri": "https://localhost:8080/"
        },
        "id": "cpb_903lPRFi",
        "outputId": "693eb973-4998-4e5f-ddc7-19784fa9e5fb"
      },
      "source": [
        "model = CatBoostClassifier()      # parameters not required.\n",
        "model.load_model('best_model')"
      ],
      "execution_count": 120,
      "outputs": [
        {
          "output_type": "execute_result",
          "data": {
            "text/plain": [
              "<catboost.core.CatBoostClassifier at 0x7fbff9b7cd50>"
            ]
          },
          "metadata": {
            "tags": []
          },
          "execution_count": 120
        }
      ]
    },
    {
      "cell_type": "markdown",
      "metadata": {
        "id": "ng7v1mb9PzvL"
      },
      "source": [
        "## Prediction Porbablities"
      ]
    },
    {
      "cell_type": "code",
      "metadata": {
        "id": "zheSSl0Hrot_"
      },
      "source": [
        "pred = model.predict_proba(test)"
      ],
      "execution_count": 122,
      "outputs": []
    },
    {
      "cell_type": "markdown",
      "metadata": {
        "id": "_8kGTOCqP2O2"
      },
      "source": [
        "## Submission "
      ]
    },
    {
      "cell_type": "code",
      "metadata": {
        "id": "C8aROFXNryUp"
      },
      "source": [
        "submission = pd.DataFrame({'ID':id,'Is_Lead':pred[:,1]})"
      ],
      "execution_count": 123,
      "outputs": []
    },
    {
      "cell_type": "code",
      "metadata": {
        "id": "zg5Ow12ir5Vz"
      },
      "source": [
        "submission.to_csv('submission.csv',index=False)"
      ],
      "execution_count": 124,
      "outputs": []
    }
  ]
}